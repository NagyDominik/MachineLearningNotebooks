{
 "metadata": {
  "language_info": {
   "codemirror_mode": {
    "name": "ipython",
    "version": 3
   },
   "file_extension": ".py",
   "mimetype": "text/x-python",
   "name": "python",
   "nbconvert_exporter": "python",
   "pygments_lexer": "ipython3",
   "version": "3.8.3-final"
  },
  "orig_nbformat": 2,
  "kernelspec": {
   "name": "python3",
   "display_name": "Python 3"
  }
 },
 "nbformat": 4,
 "nbformat_minor": 2,
 "cells": [
  {
   "source": [
    "# Exam project - CIFAR10"
   ],
   "cell_type": "markdown",
   "metadata": {}
  },
  {
   "source": [
    "## Setup"
   ],
   "cell_type": "markdown",
   "metadata": {}
  },
  {
   "cell_type": "code",
   "execution_count": 1,
   "metadata": {},
   "outputs": [],
   "source": [
    "# Common imports\n",
    "import sys\n",
    "import os\n",
    "import sklearn\n",
    "import numpy as np\n",
    "import pandas as pd\n",
    "import tensorflow as tf\n",
    "from tensorflow import keras\n",
    "\n",
    "# to make this notebook's output stable across runs\n",
    "np.random.seed(42)\n",
    "tf.random.set_seed(42)\n",
    "\n",
    "%matplotlib inline\n",
    "import matplotlib.pyplot as plt\n",
    "\n",
    "# Ignore useless warnings (see SciPy issue #5998)\n",
    "import warnings\n",
    "warnings.filterwarnings(action = \"ignore\", message = \"^internal gelsd\")"
   ]
  },
  {
   "source": [
    "## Load the data\n",
    "Keras has a number of functions to load popular datasets in keras.datasets. The dataset is already split for you between a training set and a test set."
   ],
   "cell_type": "markdown",
   "metadata": {}
  },
  {
   "cell_type": "code",
   "execution_count": 2,
   "metadata": {},
   "outputs": [],
   "source": [
    "cifar10 = keras.datasets.cifar10\n",
    "(data_train_full, label_train_full), (data_test, label_test) = cifar10.load_data()"
   ]
  },
  {
   "cell_type": "code",
   "execution_count": 3,
   "metadata": {},
   "outputs": [
    {
     "output_type": "stream",
     "name": "stdout",
     "text": [
      "Full set: (50000, 32, 32, 3)\n"
     ]
    }
   ],
   "source": [
    "# Show the size and dimension of the dataset. 50k element, 32x32 images, RGB color layers\n",
    "print('Full set:', data_train_full.shape)"
   ]
  },
  {
   "cell_type": "code",
   "execution_count": 4,
   "metadata": {},
   "outputs": [],
   "source": [
    "# Split the full training set into a validation set and a (smaller) training set, and scale the pixel intensities down to the 0-1 range and convert them to floats, by dividing by 255.0\n",
    "# validate: 0-5000, train: 5000-\n",
    "data_validation, data_train = data_train_full[:5000] / 255.0, data_train_full[5000:] / 255.0 \n",
    "label_validation, label_train = label_train_full[:5000], label_train_full[5000:]\n",
    "data_test = data_test / 255.0"
   ]
  },
  {
   "cell_type": "code",
   "execution_count": 5,
   "metadata": {},
   "outputs": [
    {
     "output_type": "stream",
     "name": "stdout",
     "text": [
      "Train: (45000, 32, 32, 3)\nValidate: (5000, 32, 32, 3)\n"
     ]
    }
   ],
   "source": [
    "print('Train:', data_train.shape)\n",
    "print('Validate:', data_validation.shape)"
   ]
  },
  {
   "cell_type": "code",
   "execution_count": 6,
   "metadata": {},
   "outputs": [
    {
     "output_type": "display_data",
     "data": {
      "text/plain": "<Figure size 432x288 with 1 Axes>",
      "image/svg+xml": "<?xml version=\"1.0\" encoding=\"utf-8\" standalone=\"no\"?>\r\n<!DOCTYPE svg PUBLIC \"-//W3C//DTD SVG 1.1//EN\"\r\n  \"http://www.w3.org/Graphics/SVG/1.1/DTD/svg11.dtd\">\r\n<!-- Created with matplotlib (https://matplotlib.org/) -->\r\n<svg height=\"231.84pt\" version=\"1.1\" viewBox=\"0 0 231.84 231.84\" width=\"231.84pt\" xmlns=\"http://www.w3.org/2000/svg\" xmlns:xlink=\"http://www.w3.org/1999/xlink\">\r\n <defs>\r\n  <style type=\"text/css\">\r\n*{stroke-linecap:butt;stroke-linejoin:round;}\r\n  </style>\r\n </defs>\r\n <g id=\"figure_1\">\r\n  <g id=\"patch_1\">\r\n   <path d=\"M 0 231.84 \r\nL 231.84 231.84 \r\nL 231.84 0 \r\nL 0 0 \r\nz\r\n\" style=\"fill:none;\"/>\r\n  </g>\r\n  <g id=\"axes_1\">\r\n   <g clip-path=\"url(#pab0336b39b)\">\r\n    <image height=\"218\" id=\"imageb06dac130e\" transform=\"scale(1 -1)translate(0 -218)\" width=\"218\" x=\"7.2\" xlink:href=\"data:image/png;base64,\r\niVBORw0KGgoAAAANSUhEUgAAANoAAADaCAYAAADAHVzbAAAABHNCSVQICAgIfAhkiAAAE1xJREFUeJztnVtvHFd2hXdVnb6yKZISRVKSRclSZI01GtvRjG0YASZB8phfEiC/IP8twAAzsQeG7bEt2bJp6sKLeBFvIvteXZd5yOtZ62EgbL+s77E2qru6qlYXsPaudZL/+p//rg3wbPs5KtmwfxHdnmUp3Ce0m7DWbLVgbToaw9rg5Dz+XVWA+7S7XXwc3TlYsySBpcpmsDar8+j2/rAP95n2p7CW5wWs9cfx62JmVpTxz+xk+NznffxdZ3v4u0KJz//V1ZXo9rvXr8F9Pvn9H2BtdXUV1l5fHMHaX55+AWsn09Po9izg+7tOKljDewkh3hoSmhAOSGhCOCChCeGAhCaEAxKaEA6EvIxbz2ZmeY4t5qKI29nNFrbOU2L9V0as0RTb6jXYb5QP4T5JwJ/XaDZgrdnA7YmSHGNZxzsoWQZ3sZK0C4ZDbKuPBwNYq8v4MU6n+Lv6p/jzyCFaaOAfd/nyUnT76hq2929cX4O1wQQf41c/fAlrB4N9WAu9+LUuSvyjK6AJMz3RhHBBQhPCAQlNCAckNCEckNCEcEBCE8KBMMknsDgjVuZoNIpub7axPV5jB9+SGZ4ST4E9bmbWbsW/r5jhtsWY2MEpOci63YE18rKAlaGMf16Cf3NR4+synRELv4p/l5lZkscPcnyOz5WV+L84I9Pqcw2833w3/rbA1dVluM/pm2NYe/LLY1g7ONmFtbqNz9XoPP7GSD7C16wu8OfpiSaEAxKaEA5IaEI4IKEJ4YCEJoQDoSTDvAkZlJ1O465MUeHMjQoMtZpxt6xj2NJrguHVQAZ2JySDZEgGQ6sCu3MJcD/NzAyYlUVJHN8CH2OV4nPVaOJzNRvFr3VJHFojjm+PfNe1pR6srSzF75GFeezqPtt9BmubOxuwZuRcNWf4OVMO4+7i4HU8o8bMbEayXPREE8IBCU0IByQ0IRyQ0IRwQEITwgEJTQgHwoTkghh24y3N4sWK2PR1RXRdkoljYtWjDkRG2hZVgX/zlAVhgN9sZhYy/LurSfxYJkV8MNvMrKyw5R6a+ISUM2zHo7YGvWaGP6/bxq2c9TU8ILzUjbdCDva34T7fPf0e1s5H2HLvkBj6ToJbEG3QugiX8D7DEW7X6IkmhAMSmhAOSGhCOCChCeGAhCaEAxKaEA6EfEpiv0lmSAJWPqwTbAfXZBI8Ib0E9haBwdwKku1Qk1qCrfMJiU8P5LdZEf++6Rjb+3WF2xMhxW8KjAf4M6tx/DjSmsSZk1Pfz/H9cUGiya+N30S3b+5twX12jg7wgdg/1p7o9bBV32m2o9vn2nh11GKqzBAhflUkNCEckNCEcEBCE8IBCU0IByQ0IRwIbDVNRrOJp6IRdUUscPaqAGsZABu/qsnqi+TzCjL1PyP2fkJeMUjB15FDtLTEwTfjCxLV/gZPkNfAxk8T/H+b1NiyzlK832xGViy9iK9Y+voYx35X5JqhN0nMzHJykqcVbm11mvGgoHY3bvubmdU5OUZYEUK8NSQ0IRyQ0IRwQEITwgEJTQgHJDQhHAgBZNebmWUNPCXeANPNFZk6n5FQHNYuKMm0fYUs9wrvQ23pAh8/s5EbKbbjS5DnX5PIe5STb2bW3x/i7wJBQGZmlsSPv0HOL2viZOR6Dvs4MOeiH7+v+n3yNgPqkZgZv4dxLSdvpwzzeJARbnaYJeTNDz3RhHBAQhPCAQlNCAckNCEckNCEcEBCE8KBwMJ0UrI+bRbiFm1FLNMcLMdrZpYR63zKlrudxafVy4Jk4RckjIZk1zda+HwEYu0WYOlaauEf4XNVjvBva5P/zjboQCwQC3ypg8NoWi1s/tdkTYcsi5/jssS/i9ymVpNrVpDWRdHC31eCUJ/xDP+uusL3lZ5oQjggoQnhgIQmhAMSmhAOSGhCOBBy4uilAQ/KNtvxTIWcOGIlyZEoCux8TUluRZXHXcfZBLtNkyF2hyqSnxEy7LKx3I18HHcdz49xbPboHB8/i/Bev7oAa/eW4xHYLSPD3iRTJqnxb+6PsaNazOJD0QUZBK+Iszib4ftjluLjSMh5bIAh9063C/dhkTh6ognhgIQmhAMSmhAOSGhCOCChCeGAhCaEA6EkQ8AZyJgwM2t24jZnPsLDsMWMZX8QC58kNczy+GfOpthrHRPrv0kin1tgkNrMLCFLY/ZP4y2I4Tm21a0ibQbSdul14m0XM7N2Mz4gHEjeycHhIay1yP907xI+jvNx/HcX4FqamZFbx4zEuGcNfIzTIb6vzrN+dHtOVjnNMnx/6IkmhAMSmhAOSGhCOCChCeGAhCaEAxKaEA6EKZh+NzNLamz7dufAlDjJzihJ3HbFMj7YKpzTeG1Gpr3LGn9es40zMgKxb4/2TmDtZD9uFdekJcCoyJj41vEZrO0dn8Y/jxzGZIJzy3sk5+U6Wc202463UEKG7zeWRUOfF6RNkuf4PigHoAVRklZChr9LTzQhHJDQhHBAQhPCAQlNCAckNCEckNCEcCCwqflmwGE0DTDJnpCJ/6om0c3kONhbBAVoGcym2A5OatyCaDZw+MrhAV7FcvfZK1grpuD42d8cCXopSHvibIzfnoCfyboMJHRonONrNj3CwUO3VuItlCvL83CfwckFrJFbx4yECxXsfkQrp5JAolZbkeBC/KpIaEI4IKEJ4YCEJoQDEpoQDkhoQjgQajKNnDaxDqsq7qmydkGakulmYiMnpFaD6ezEsIWfkLcIDrb2YW0wHMHaYnsO1vplfAJ+SifSMRVb/pK0QiAsM55Y4AmxzmvyH94fxrP3l9aW4T6tAW41sbAl1m6q2ZoO4CNzsj5Axu5vWBFCvDUkNCEckNCEcEBCE8IBCU0IB0JRkKxl4jhNRvGskTEZag0ZdgIzkhfBnaP4Z7J8j/kOPo6dbRyB3Wzgz3xn9QqsPZ8cRbcz15Gah8QlJCVDZmWDXGeWCzLfxtesTfazAqyAehLPVjEzS0iwSYO40uyMFCR7BZ0SMs9tFTGR9UQTwgEJTQgHJDQhHJDQhHBAQhPCAQlNCAeCMYuTxHRPi/iA7SzHq1iyzJCaBFfU5BgDsHZPjnG+x/zSEqw9uLUGa4fHb2Dt4ghHgldoucp/ZADYzKwm2RTkHKOw88tkeHy5jVshvRYZom1gH3w6jX/mMYjhNuND52lFor2JHU+S5uE9l5C2BTkMPdGE8EBCE8IBCU0IByQ0IRyQ0IRwQEITwoHAppHrgkV4x+39xNjbALg0K3GxUeLPvHc5btV/NI/zJ04O8IT+Ug+WbKWBc0Gev8KT5w1kCZckC8VIzjVpC3RI7dZcfNr+Wg9P4XdwVAfNgEnYyq9Z/KZbJN0OEnRupxO8414fr1g6rvAxomdQQlorJWu7kG8SQrwlJDQhHJDQhHBAQhPCAQlNCAckNCEcCEZCcdhqiXUNLPdA7P0Z7iXMhtiGPSGhLQYs5j9++AHc5cG9u7BWDQ9gbX/zJaydBmzHnyXx391nK06StxkaJMr63Ss4QOjRu/HeRRvEqpuZnZzGQ5jMzCYk2Cklo/EBjLm3U/y75lN8rpZ66L0Es26K7++9C5ymc57Hvy8n5ypp4l6InmhCOCChCeGAhCaEAxKaEA5IaEI4IKEJ4UBo9eZhsUHsyvH5ILq9TLBFy2alLw4vYO10Hwft7Bdxi7Y/+Bru8/GD38DaB+s4uKfXiWfom5ndWMAW8+Lqpej2z5/htwguSCvkzkIb1j65i99auPvOYnT7dIivWVnGr7OZWdLErYSavHFRTOOz+AlZTbMZ8DMhI7UrC7hNsjaHWxe/nMePZeuCBAiRO1xPNCEckNCEcEBCE8IBCU0IByQ0IRwI7U4HFjOS+2Bl3M1JZ1i750fYPTw/xLVqigdKs0b8GOsMO6aXlnDs9/EpdhY7nS6s/e7BPVirunHX8dkrHCPeLrG79dsbOLvk/vV1WLuyeDu6fdIbwn3Kxj6s9RavwtrlywuwVpVxl3M0jOfQmJl1u/jc91p4cHg4xAPpj59uwtqbRvx+3B3g+yMjA8x6ognhgIQmhAMSmhAOSGhCOCChCeGAhCaEAyFNSG7FjAybTuL7nW1jm/5k7wzW6gIP0c61ydDoYrw98ejhQ7jP/Xt4qPhsB+dI3L9/B9aWiPW/+fxZdPv7K7i1ko/xMOw/ra3C2vLaTVi7cjVeu5hgC3xIYrr3Dk9hbUCW2jy7iLcTXh3gdseHD9+HtZUMDzdPS9yiWv8NzpU5bG5Ht5fPX8N9ZO8L8SsjoQnhgIQmhAMSmhAOSGhCOCChCeFASMiSn7MRtrq3N3ai24+2seULkrHNzKzRwj7y6jKeVv/wfjze+9OPsB288/InWKsG+PjfYDfeugFbzEuL8Un2zx79Fu6TD/FE/eKVa7DWnsNthuPhXnT7zHAGyfkY/xe/6eNj3D3BNvjGVvw4Dk7x9H5Bngn/+gfcrqnJCrR1wMu7bu+BKf2U5YLgVpmeaEI4IKEJ4YCEJoQDEpoQDkhoQjggoQnhQJgO4/HMZmbbP23B2tF2PM46NLB2e11sI68CC9zM7P7td2Dt+tqV6PaN59/BfZ69fAFrH5PVQFsZtm+3N3+AtdCK9wWu3XoX7lMHHC70eh9HiQ/249a5mVndjFv/zXl8XS4t4Yj0hXnc0njTx5P4bwbxtsDcEm5bzC3hNxbOhjja++oS/m2vTvGbJpsvd6Pb2y3cPklS3L/SE00IByQ0IRyQ0IRwQEITwgEJTQgHJDQhHAib327A4sFzbBUH4HQvkNUo7999D9Yevf8I1ubbeGJ6Z+9pdPuPB8/hPhOyQuTOCE+Qd6bYvt19+jOsLSyvRLdX3XhrwsxsRN6q2H2NJ+PbAa88evPWrej2O3fwugEh4DUA+icvYe3lHj6PDx/G31o4y3G7YHP7Fax9+RXO0F+/htcHKAMO0wmt+HnsdMkKuaS1pSeaEA5IaEI4IKEJ4YCEJoQDEpoQDkhoQjiQXLo8B0fSOxm2ipfmFqPb129eh/t8/OhTWLuzjifZ//b9/8Laj1vfRLefZDjsZ5hhW/dqjX/zo7llWFuocJDRDJzhtTs4QGiS4On9wcUBrC1fugxrt28+iG5fWcFvTrx4/hWsHZEWyk8v8BsGO2fxNR02dnDbYusQL2lbgWWezcwCeZY0O7i2shxffrkH7nszs4ysRK0nmhAOSGhCOCChCeGAhCaEAxKaEA6EpQ52nG5evw1r778Xd7B+9+BDuM/6jRuwtnvwC6y9OMMDpadZPPJ5nGBnsU7x/8sgz2HtsMCDsp/98d9gLUniw7IHJ3ilzdXLcdfLzOyd6/EhZTOzJvltV1fjjlmf5HvsH2In8GfiLH7+LXYkd47jmSFjskponWJnsSYx3SxKvNfG+R+LC3H3ttfDeikLfO/oiSaEAxKaEA5IaEI4IKEJ4YCEJoQDEpoQDoRb79yGxQf3P4C1jz76JLp98RJeRXHrFbbwv376Bawdz+JDqGZm/TT+fdMcW+edGtvBVYVjv5/uYct64TG2fW9fjw9Mb/yIsy7+5VM8vHp7fR3WQorP1XgaX8308ZOv4T5PNl7C2l+f4NrzgwGs1Vm83VGneHVOI9fFErxfQtodnQbOt5nrxO+rbhsv+5rnuAWhJ5oQDkhoQjggoQnhgIQmhAMSmhAOSGhCOBD+49//ExbfexdHRTdbcYv2590ncJ+/Pv4/WDu8wJkQAxKPPZ3Erd0ixxkeOVm5M62xPR4M17747m+w9udvvo0fxwhPe+/s78PanRs3Ya3ZwlkjR6fxKf2NZy/hPnuvz2DtYozPcZ2StydqcP6Zg09qbMdAJvtDA+fDJCAAJMnwsykh36UnmhAOSGhCOCChCeGAhCaEAxKaEA5IaEI4EH7/z5/BYkqmop9uxi3rbzbwJPj+BFvFZRvbwdV4gmt5vFbMyER3gW3pQFoJTVyyvMb/WaMyfiwpWXl06xUOJNrcfAFr50O8QucI/GzctDAzMv2eJiQDG1n4ZoZm3GtY+f8q/Dxy7hPypkadkMAf8H1kF8tIJrieaEI4IKEJ4YCEJoQDEpoQDkhoQjggoQnhQBiNcYjK1z98Dms/73wf3X5W4s+zBrY/EzqBjf8PMvBfkVTYi++0428emJnNkQnsRoG93YrkyqSzuOWekMCZjKxKmpPzURLH3er4QSbk7zYlxZT9TxN7vwLXhnRW2GC/pcRzT8m5MpL1X4A1GErSNsrYceCjEEK8LSQ0IRyQ0IRwQEITwgEJTQgHwuff/QkWvySuo3Xjo6gJyBIxM8snOCMjI1kMGRnkbIFBTmIoWa+Bj/ESWQWyLvExToZ48Lms47WqwOO8iWH7sCTDq0nAmSHICUxS5n7i70KOrxl2Fs3MqiJeYwO7RgaH2XBzk1xrlidSlfFrU87wQHoasFOsJ5oQDkhoQjggoQnhgIQmhAMSmhAOSGhCOBC+evkXWDwt4ytEmpn1LL4iZWNGbN3JGNaSgG3YBhlsbYGh0YREUrfZ8CdpM+QJPsZpiu39McoMIZOyrTaOq2438W8rybmqJ3HLuiIDwIFY1gk5jyWwx83MapDvXZMh64Q8ExpgBVEzs04Hr9DZIL+tBq2XGlxLM7MkKDNEiF8VCU0IByQ0IRyQ0IRwQEITwgEJTQgH/g5dJADO7mmKQgAAAABJRU5ErkJggg==\" y=\"-6.64\"/>\r\n   </g>\r\n  </g>\r\n </g>\r\n <defs>\r\n  <clipPath id=\"pab0336b39b\">\r\n   <rect height=\"217.44\" width=\"217.44\" x=\"7.2\" y=\"7.2\"/>\r\n  </clipPath>\r\n </defs>\r\n</svg>\r\n",
      "image/png": "[encoded data removed]"
     },
     "metadata": {
      "needs_background": "light"
     }
    }
   ],
   "source": [
    "#Plot an image using Matplotlib's imshow() function\n",
    "plt.imshow(data_train[0])\n",
    "plt.axis('off')\n",
    "plt.show()"
   ]
  },
  {
   "cell_type": "code",
   "execution_count": 7,
   "metadata": {},
   "outputs": [
    {
     "output_type": "execute_result",
     "data": {
      "text/plain": [
       "'Frog'"
      ]
     },
     "metadata": {},
     "execution_count": 7
    }
   ],
   "source": [
    "class_names = [\"Airplane\", \"Automobile\", \"Bird\", \"Cat\", \"Deer\",\n",
    "               \"Dog\", \"Frog\", \"Horse\", \"Ship\", \"Truck\"]\n",
    "class_names[label_train[0][0]]"
   ]
  },
  {
   "source": [
    "## Standardize the data\n",
    "Because we want to use the SELU activation function and LeCun weight initializer, we should standardize all the input features to a mean of 0 and a standard deviation of 1. Since each pixel is an input feature, there are 28x28=784 input features, and we need to compute the mean and standard deviation for each of them."
   ],
   "cell_type": "markdown",
   "metadata": {}
  },
  {
   "cell_type": "code",
   "execution_count": 8,
   "metadata": {},
   "outputs": [
    {
     "output_type": "stream",
     "name": "stdout",
     "text": [
      "Means: (1, 32, 32, 3)\n",
      "Standard deviation: (1, 32, 32, 3)\n"
     ]
    }
   ],
   "source": [
    "# Compute the mean for each pixel.\n",
    "pixel_means = data_train.mean(axis = 0, keepdims = True)\n",
    "print('Means:', pixel_means.shape)\n",
    "\n",
    "# Compute the standard deviation for each pixel.\n",
    "pixel_stds = data_train.std(axis = 0, keepdims = True)\n",
    "print('Standard deviation:', pixel_stds.shape)"
   ]
  },
  {
   "cell_type": "code",
   "execution_count": 9,
   "metadata": {},
   "outputs": [],
   "source": [
    "# Scale the inputs to mean 0 and standard deviation 1 to achieve self-normalization with SELU and LeCun.\n",
    "data_train_standardized = (data_train - pixel_means) / pixel_stds\n",
    "data_validation_standardized = (data_validation - pixel_means) / pixel_stds\n",
    "data_test_standardized = (data_test - pixel_means) / pixel_stds"
   ]
  },
  {
   "cell_type": "code",
   "execution_count": 10,
   "metadata": {},
   "outputs": [
    {
     "output_type": "execute_result",
     "data": {
      "text/plain": [
       "array([[[[-1.26346538e-14,  3.83544900e-14, -1.45948340e-14],\n",
       "         [ 2.16892529e-14,  3.88299911e-14,  2.69281881e-14],\n",
       "         [ 3.47678923e-15,  4.16193598e-14,  3.18685522e-14],\n",
       "         ...,\n",
       "         [ 1.76495559e-14,  6.61919458e-14,  2.21680353e-14],\n",
       "         [ 1.66235371e-14,  4.96447476e-14,  3.16723191e-14],\n",
       "         [ 5.35746262e-15,  4.45144613e-14,  1.94159799e-14]],\n",
       "\n",
       "        [[-1.99349722e-14, -3.55779603e-15,  4.97943415e-15],\n",
       "         [ 8.87647980e-15,  5.65033699e-14,  3.09045777e-14],\n",
       "         [-5.48222702e-15,  5.33282455e-14,  1.60781906e-14],\n",
       "         ...,\n",
       "         [ 1.28854458e-15,  1.69432073e-14,  1.56435655e-14],\n",
       "         [-5.75694554e-15,  1.82706147e-14, -1.09884447e-15],\n",
       "         [-4.67727092e-15,  2.91203851e-14,  1.43271271e-14]],\n",
       "\n",
       "        [[-2.38230916e-14,  2.39115740e-14,  1.65502476e-14],\n",
       "         [ 1.54112772e-15,  5.32304225e-14,  3.12234189e-16],\n",
       "         [ 1.71493387e-14,  4.50213447e-14,  7.41992640e-15],\n",
       "         ...,\n",
       "         [-1.77874505e-15,  4.72152293e-14,  1.28525487e-14],\n",
       "         [-6.03147162e-15,  3.13038336e-14,  3.94043316e-15],\n",
       "         [-1.94002690e-14,  1.50302511e-14, -5.88925452e-15]],\n",
       "\n",
       "        ...,\n",
       "\n",
       "        [[-4.60960998e-14, -1.94454588e-14, -8.10382070e-14],\n",
       "         [-3.54677349e-14, -4.98424431e-14, -7.99850365e-14],\n",
       "         [-3.65975324e-14, -3.90230478e-14, -8.54803130e-14],\n",
       "         ...,\n",
       "         [-3.67897416e-14, -6.23728082e-14, -9.42505136e-14],\n",
       "         [-1.58437313e-14, -3.79363997e-14, -7.64520299e-14],\n",
       "         [-4.15772404e-14, -3.31281521e-14, -8.95977860e-14]],\n",
       "\n",
       "        [[-4.34805297e-14, -4.10451087e-14, -8.99513180e-14],\n",
       "         [-2.61402097e-14, -4.29036698e-14, -8.77437589e-14],\n",
       "         [-2.83665577e-14, -4.81265375e-14, -9.01708965e-14],\n",
       "         ...,\n",
       "         [-1.80138497e-14, -3.16927669e-14, -9.20452455e-14],\n",
       "         [-2.67316786e-14, -3.08060639e-14, -1.03972352e-13],\n",
       "         [-3.25662115e-14, -3.01285367e-14, -9.15512851e-14]],\n",
       "\n",
       "        [[-1.09369310e-14, -2.43294557e-14, -8.53288010e-14],\n",
       "         [-2.01748821e-14, -3.88763009e-14, -6.32546213e-14],\n",
       "         [-1.38689881e-14, -2.84715911e-14, -7.70930728e-14],\n",
       "         ...,\n",
       "         [-3.06231805e-14, -4.06397632e-14, -7.22581476e-14],\n",
       "         [-3.19223388e-14, -3.26851484e-14, -9.55062252e-14],\n",
       "         [-3.65882386e-14, -2.06118480e-14, -9.47159659e-14]]]])"
      ]
     },
     "metadata": {},
     "execution_count": 10
    }
   ],
   "source": [
    "# Validate that the mean is close to 0 for each pixel.\n",
    "data_train_standardized.mean(axis = 0, keepdims = True)"
   ]
  },
  {
   "cell_type": "code",
   "execution_count": 11,
   "metadata": {},
   "outputs": [
    {
     "output_type": "execute_result",
     "data": {
      "text/plain": [
       "array([[[[1., 1., 1.],\n",
       "         [1., 1., 1.],\n",
       "         [1., 1., 1.],\n",
       "         ...,\n",
       "         [1., 1., 1.],\n",
       "         [1., 1., 1.],\n",
       "         [1., 1., 1.]],\n",
       "\n",
       "        [[1., 1., 1.],\n",
       "         [1., 1., 1.],\n",
       "         [1., 1., 1.],\n",
       "         ...,\n",
       "         [1., 1., 1.],\n",
       "         [1., 1., 1.],\n",
       "         [1., 1., 1.]],\n",
       "\n",
       "        [[1., 1., 1.],\n",
       "         [1., 1., 1.],\n",
       "         [1., 1., 1.],\n",
       "         ...,\n",
       "         [1., 1., 1.],\n",
       "         [1., 1., 1.],\n",
       "         [1., 1., 1.]],\n",
       "\n",
       "        ...,\n",
       "\n",
       "        [[1., 1., 1.],\n",
       "         [1., 1., 1.],\n",
       "         [1., 1., 1.],\n",
       "         ...,\n",
       "         [1., 1., 1.],\n",
       "         [1., 1., 1.],\n",
       "         [1., 1., 1.]],\n",
       "\n",
       "        [[1., 1., 1.],\n",
       "         [1., 1., 1.],\n",
       "         [1., 1., 1.],\n",
       "         ...,\n",
       "         [1., 1., 1.],\n",
       "         [1., 1., 1.],\n",
       "         [1., 1., 1.]],\n",
       "\n",
       "        [[1., 1., 1.],\n",
       "         [1., 1., 1.],\n",
       "         [1., 1., 1.],\n",
       "         ...,\n",
       "         [1., 1., 1.],\n",
       "         [1., 1., 1.],\n",
       "         [1., 1., 1.]]]])"
      ]
     },
     "metadata": {},
     "execution_count": 11
    }
   ],
   "source": [
    "# Validate that the standard deviation is close to 1 for each pixel.\n",
    "data_train_standardized.std(axis = 0, keepdims = True)"
   ]
  },
  {
   "source": [
    "## Create a model using the Sequential API"
   ],
   "cell_type": "markdown",
   "metadata": {}
  },
  {
   "cell_type": "code",
   "execution_count": 79,
   "metadata": {},
   "outputs": [],
   "source": [
    "model = keras.models.Sequential()\n",
    "\n",
    "# Input layer:\n",
    "model.add(keras.layers.Flatten(input_shape = [32, 32, 3]))\n",
    "\n",
    "# Hidden layers:\n",
    "model.add(keras.layers.Dense(500, activation = \"selu\", kernel_initializer = \"lecun_normal\"))\n",
    "# model.add(keras.layers.Dense(100, activation = \"selu\", kernel_initializer = \"lecun_normal\"))\n",
    "\n",
    "# Use alpha dropout in the last hidden layer.\n",
    "model.add(keras.layers.AlphaDropout(rate = 0.2))\n",
    "    \n",
    "# Output layer.\n",
    "model.add(keras.layers.Dense(10, activation = \"softmax\"))"
   ]
  },
  {
   "source": [
    "## Compile the model\n",
    "You must at least specify the loss function and the optimizer to use. You can also specify a list of additional metrics to use during training and evaluation."
   ],
   "cell_type": "markdown",
   "metadata": {}
  },
  {
   "cell_type": "code",
   "execution_count": 80,
   "metadata": {},
   "outputs": [],
   "source": [
    "# The optimixer is Stochastic Gradient Descent with momentum optimization. The momentum is set to 0.9.\n",
    "# This value usually works well in practice. We use the default learning rate (0.01).\n",
    "model.compile(loss = \"sparse_categorical_crossentropy\",\n",
    "              optimizer = keras.optimizers.SGD(lr = 5e-4,momentum = 0.9),\n",
    "              metrics = [\"accuracy\"])"
   ]
  },
  {
   "cell_type": "code",
   "execution_count": 81,
   "metadata": {},
   "outputs": [
    {
     "output_type": "stream",
     "name": "stdout",
     "text": [
      "Epoch 1/50\n",
      "1407/1407 [==============================] - 7s 5ms/step - loss: 1.9801 - accuracy: 0.3288 - val_loss: 1.6634 - val_accuracy: 0.4388\n",
      "Epoch 2/50\n",
      "1407/1407 [==============================] - 7s 5ms/step - loss: 1.6826 - accuracy: 0.4102 - val_loss: 1.5985 - val_accuracy: 0.4502\n",
      "Epoch 3/50\n",
      "1407/1407 [==============================] - 7s 5ms/step - loss: 1.5869 - accuracy: 0.4432 - val_loss: 1.5549 - val_accuracy: 0.4730\n",
      "Epoch 4/50\n",
      "1407/1407 [==============================] - 7s 5ms/step - loss: 1.5201 - accuracy: 0.4674 - val_loss: 1.5115 - val_accuracy: 0.4828\n",
      "Epoch 5/50\n",
      "1407/1407 [==============================] - 7s 5ms/step - loss: 1.4714 - accuracy: 0.4804 - val_loss: 1.4876 - val_accuracy: 0.4920\n",
      "Epoch 6/50\n",
      "1407/1407 [==============================] - 7s 5ms/step - loss: 1.4329 - accuracy: 0.4935 - val_loss: 1.4564 - val_accuracy: 0.5032\n",
      "Epoch 7/50\n",
      "1407/1407 [==============================] - 7s 5ms/step - loss: 1.3924 - accuracy: 0.5079 - val_loss: 1.4565 - val_accuracy: 0.5044\n",
      "Epoch 8/50\n",
      "1407/1407 [==============================] - 7s 5ms/step - loss: 1.3658 - accuracy: 0.5176 - val_loss: 1.4562 - val_accuracy: 0.5074\n",
      "Epoch 9/50\n",
      "1407/1407 [==============================] - 7s 5ms/step - loss: 1.3366 - accuracy: 0.5294 - val_loss: 1.4518 - val_accuracy: 0.5124\n",
      "Epoch 10/50\n",
      "1407/1407 [==============================] - 7s 5ms/step - loss: 1.3089 - accuracy: 0.5366 - val_loss: 1.4431 - val_accuracy: 0.5210\n",
      "Epoch 11/50\n",
      "1407/1407 [==============================] - 7s 5ms/step - loss: 1.2869 - accuracy: 0.5440 - val_loss: 1.4378 - val_accuracy: 0.5226\n",
      "Epoch 12/50\n",
      "1407/1407 [==============================] - 7s 5ms/step - loss: 1.2644 - accuracy: 0.5524 - val_loss: 1.4309 - val_accuracy: 0.5242\n",
      "Epoch 13/50\n",
      "1407/1407 [==============================] - 7s 5ms/step - loss: 1.2368 - accuracy: 0.5613 - val_loss: 1.4518 - val_accuracy: 0.5216\n",
      "Epoch 14/50\n",
      "1407/1407 [==============================] - 7s 5ms/step - loss: 1.2150 - accuracy: 0.5678 - val_loss: 1.4185 - val_accuracy: 0.5374\n",
      "Epoch 15/50\n",
      "1407/1407 [==============================] - 7s 5ms/step - loss: 1.1981 - accuracy: 0.5748 - val_loss: 1.4402 - val_accuracy: 0.5328\n",
      "Epoch 16/50\n",
      "1407/1407 [==============================] - 7s 5ms/step - loss: 1.1768 - accuracy: 0.5821 - val_loss: 1.4406 - val_accuracy: 0.5348\n",
      "Epoch 17/50\n",
      "1407/1407 [==============================] - 7s 5ms/step - loss: 1.1589 - accuracy: 0.5892 - val_loss: 1.4285 - val_accuracy: 0.5380\n",
      "Epoch 18/50\n",
      "1407/1407 [==============================] - 7s 5ms/step - loss: 1.1344 - accuracy: 0.5989 - val_loss: 1.4284 - val_accuracy: 0.5460\n",
      "Epoch 19/50\n",
      "1407/1407 [==============================] - 7s 5ms/step - loss: 1.0947 - accuracy: 0.6123 - val_loss: 1.4125 - val_accuracy: 0.5484\n",
      "Epoch 20/50\n",
      "1407/1407 [==============================] - 7s 5ms/step - loss: 1.0800 - accuracy: 0.6162 - val_loss: 1.4334 - val_accuracy: 0.5376\n",
      "Epoch 21/50\n",
      "1407/1407 [==============================] - 7s 5ms/step - loss: 1.0676 - accuracy: 0.6194 - val_loss: 1.4267 - val_accuracy: 0.5492\n",
      "Epoch 22/50\n",
      "1407/1407 [==============================] - 7s 5ms/step - loss: 1.0571 - accuracy: 0.6231 - val_loss: 1.4445 - val_accuracy: 0.5446\n",
      "Epoch 23/50\n",
      "1407/1407 [==============================] - 7s 5ms/step - loss: 1.0482 - accuracy: 0.6301 - val_loss: 1.4461 - val_accuracy: 0.5424\n",
      "Epoch 24/50\n",
      "1407/1407 [==============================] - 7s 5ms/step - loss: 1.0236 - accuracy: 0.6370 - val_loss: 1.4263 - val_accuracy: 0.5510\n"
     ]
    }
   ],
   "source": [
    "# EarlyStopping (with rollback to the best model).\n",
    "early_stopping = keras.callbacks.EarlyStopping(patience = 5, restore_best_weights = True)\n",
    "\n",
    "# Performance scheduling (multiply the learning rate by a factor when the error stops dropping for a number of epochs, called patience)\n",
    "lr_scheduler = keras.callbacks.ReduceLROnPlateau(factor = 0.5, patience = 4)\n",
    "\n",
    "# Train the model with early stopping or performance scheduling or both. Training is much faster when early stopping is used, but a slightly better accuracy is achieved with performance scheduling alone.\n",
    "history = model.fit(data_train_standardized, label_train, epochs = 50,\n",
    "                    validation_data = (data_validation_standardized, label_validation),\n",
    "                    callbacks = [early_stopping, lr_scheduler])"
   ]
  },
  {
   "cell_type": "code",
   "execution_count": 82,
   "metadata": {},
   "outputs": [
    {
     "output_type": "display_data",
     "data": {
      "text/plain": "<Figure size 576x360 with 1 Axes>",
      "image/svg+xml": "<?xml version=\"1.0\" encoding=\"utf-8\" standalone=\"no\"?>\r\n<!DOCTYPE svg PUBLIC \"-//W3C//DTD SVG 1.1//EN\"\r\n  \"http://www.w3.org/Graphics/SVG/1.1/DTD/svg11.dtd\">\r\n<!-- Created with matplotlib (https://matplotlib.org/) -->\r\n<svg height=\"306.677344pt\" version=\"1.1\" viewBox=\"0 0 483.703125 306.677344\" width=\"483.703125pt\" xmlns=\"http://www.w3.org/2000/svg\" xmlns:xlink=\"http://www.w3.org/1999/xlink\">\r\n <defs>\r\n  <style type=\"text/css\">\r\n*{stroke-linecap:butt;stroke-linejoin:round;}\r\n  </style>\r\n </defs>\r\n <g id=\"figure_1\">\r\n  <g id=\"patch_1\">\r\n   <path d=\"M 0 306.677344 \r\nL 483.703125 306.677344 \r\nL 483.703125 0 \r\nL 0 0 \r\nz\r\n\" style=\"fill:none;\"/>\r\n  </g>\r\n  <g id=\"axes_1\">\r\n   <g id=\"patch_2\">\r\n    <path d=\"M 30.103125 282.799219 \r\nL 476.503125 282.799219 \r\nL 476.503125 10.999219 \r\nL 30.103125 10.999219 \r\nz\r\n\" style=\"fill:#ffffff;\"/>\r\n   </g>\r\n   <g id=\"matplotlib.axis_1\">\r\n    <g id=\"xtick_1\">\r\n     <g id=\"line2d_1\">\r\n      <path clip-path=\"url(#p7816738c96)\" d=\"M 50.394034 282.799219 \r\nL 50.394034 10.999219 \r\n\" style=\"fill:none;stroke:#b0b0b0;stroke-linecap:square;stroke-width:0.8;\"/>\r\n     </g>\r\n     <g id=\"line2d_2\">\r\n      <defs>\r\n       <path d=\"M 0 0 \r\nL 0 3.5 \r\n\" id=\"m1b84613431\" style=\"stroke:#000000;stroke-width:0.8;\"/>\r\n      </defs>\r\n      <g>\r\n       <use style=\"stroke:#000000;stroke-width:0.8;\" x=\"50.394034\" xlink:href=\"#m1b84613431\" y=\"282.799219\"/>\r\n      </g>\r\n     </g>\r\n     <g id=\"text_1\">\r\n      <!-- 0 -->\r\n      <defs>\r\n       <path d=\"M 31.78125 66.40625 \r\nQ 24.171875 66.40625 20.328125 58.90625 \r\nQ 16.5 51.421875 16.5 36.375 \r\nQ 16.5 21.390625 20.328125 13.890625 \r\nQ 24.171875 6.390625 31.78125 6.390625 \r\nQ 39.453125 6.390625 43.28125 13.890625 \r\nQ 47.125 21.390625 47.125 36.375 \r\nQ 47.125 51.421875 43.28125 58.90625 \r\nQ 39.453125 66.40625 31.78125 66.40625 \r\nz\r\nM 31.78125 74.21875 \r\nQ 44.046875 74.21875 50.515625 64.515625 \r\nQ 56.984375 54.828125 56.984375 36.375 \r\nQ 56.984375 17.96875 50.515625 8.265625 \r\nQ 44.046875 -1.421875 31.78125 -1.421875 \r\nQ 19.53125 -1.421875 13.0625 8.265625 \r\nQ 6.59375 17.96875 6.59375 36.375 \r\nQ 6.59375 54.828125 13.0625 64.515625 \r\nQ 19.53125 74.21875 31.78125 74.21875 \r\nz\r\n\" id=\"DejaVuSans-48\"/>\r\n      </defs>\r\n      <g transform=\"translate(47.212784 297.397656)scale(0.1 -0.1)\">\r\n       <use xlink:href=\"#DejaVuSans-48\"/>\r\n      </g>\r\n     </g>\r\n    </g>\r\n    <g id=\"xtick_2\">\r\n     <g id=\"line2d_3\">\r\n      <path clip-path=\"url(#p7816738c96)\" d=\"M 138.615378 282.799219 \r\nL 138.615378 10.999219 \r\n\" style=\"fill:none;stroke:#b0b0b0;stroke-linecap:square;stroke-width:0.8;\"/>\r\n     </g>\r\n     <g id=\"line2d_4\">\r\n      <g>\r\n       <use style=\"stroke:#000000;stroke-width:0.8;\" x=\"138.615378\" xlink:href=\"#m1b84613431\" y=\"282.799219\"/>\r\n      </g>\r\n     </g>\r\n     <g id=\"text_2\">\r\n      <!-- 5 -->\r\n      <defs>\r\n       <path d=\"M 10.796875 72.90625 \r\nL 49.515625 72.90625 \r\nL 49.515625 64.59375 \r\nL 19.828125 64.59375 \r\nL 19.828125 46.734375 \r\nQ 21.96875 47.46875 24.109375 47.828125 \r\nQ 26.265625 48.1875 28.421875 48.1875 \r\nQ 40.625 48.1875 47.75 41.5 \r\nQ 54.890625 34.8125 54.890625 23.390625 \r\nQ 54.890625 11.625 47.5625 5.09375 \r\nQ 40.234375 -1.421875 26.90625 -1.421875 \r\nQ 22.3125 -1.421875 17.546875 -0.640625 \r\nQ 12.796875 0.140625 7.71875 1.703125 \r\nL 7.71875 11.625 \r\nQ 12.109375 9.234375 16.796875 8.0625 \r\nQ 21.484375 6.890625 26.703125 6.890625 \r\nQ 35.15625 6.890625 40.078125 11.328125 \r\nQ 45.015625 15.765625 45.015625 23.390625 \r\nQ 45.015625 31 40.078125 35.4375 \r\nQ 35.15625 39.890625 26.703125 39.890625 \r\nQ 22.75 39.890625 18.8125 39.015625 \r\nQ 14.890625 38.140625 10.796875 36.28125 \r\nz\r\n\" id=\"DejaVuSans-53\"/>\r\n      </defs>\r\n      <g transform=\"translate(135.434128 297.397656)scale(0.1 -0.1)\">\r\n       <use xlink:href=\"#DejaVuSans-53\"/>\r\n      </g>\r\n     </g>\r\n    </g>\r\n    <g id=\"xtick_3\">\r\n     <g id=\"line2d_5\">\r\n      <path clip-path=\"url(#p7816738c96)\" d=\"M 226.836722 282.799219 \r\nL 226.836722 10.999219 \r\n\" style=\"fill:none;stroke:#b0b0b0;stroke-linecap:square;stroke-width:0.8;\"/>\r\n     </g>\r\n     <g id=\"line2d_6\">\r\n      <g>\r\n       <use style=\"stroke:#000000;stroke-width:0.8;\" x=\"226.836722\" xlink:href=\"#m1b84613431\" y=\"282.799219\"/>\r\n      </g>\r\n     </g>\r\n     <g id=\"text_3\">\r\n      <!-- 10 -->\r\n      <defs>\r\n       <path d=\"M 12.40625 8.296875 \r\nL 28.515625 8.296875 \r\nL 28.515625 63.921875 \r\nL 10.984375 60.40625 \r\nL 10.984375 69.390625 \r\nL 28.421875 72.90625 \r\nL 38.28125 72.90625 \r\nL 38.28125 8.296875 \r\nL 54.390625 8.296875 \r\nL 54.390625 0 \r\nL 12.40625 0 \r\nz\r\n\" id=\"DejaVuSans-49\"/>\r\n      </defs>\r\n      <g transform=\"translate(220.474222 297.397656)scale(0.1 -0.1)\">\r\n       <use xlink:href=\"#DejaVuSans-49\"/>\r\n       <use x=\"63.623047\" xlink:href=\"#DejaVuSans-48\"/>\r\n      </g>\r\n     </g>\r\n    </g>\r\n    <g id=\"xtick_4\">\r\n     <g id=\"line2d_7\">\r\n      <path clip-path=\"url(#p7816738c96)\" d=\"M 315.058066 282.799219 \r\nL 315.058066 10.999219 \r\n\" style=\"fill:none;stroke:#b0b0b0;stroke-linecap:square;stroke-width:0.8;\"/>\r\n     </g>\r\n     <g id=\"line2d_8\">\r\n      <g>\r\n       <use style=\"stroke:#000000;stroke-width:0.8;\" x=\"315.058066\" xlink:href=\"#m1b84613431\" y=\"282.799219\"/>\r\n      </g>\r\n     </g>\r\n     <g id=\"text_4\">\r\n      <!-- 15 -->\r\n      <g transform=\"translate(308.695566 297.397656)scale(0.1 -0.1)\">\r\n       <use xlink:href=\"#DejaVuSans-49\"/>\r\n       <use x=\"63.623047\" xlink:href=\"#DejaVuSans-53\"/>\r\n      </g>\r\n     </g>\r\n    </g>\r\n    <g id=\"xtick_5\">\r\n     <g id=\"line2d_9\">\r\n      <path clip-path=\"url(#p7816738c96)\" d=\"M 403.27941 282.799219 \r\nL 403.27941 10.999219 \r\n\" style=\"fill:none;stroke:#b0b0b0;stroke-linecap:square;stroke-width:0.8;\"/>\r\n     </g>\r\n     <g id=\"line2d_10\">\r\n      <g>\r\n       <use style=\"stroke:#000000;stroke-width:0.8;\" x=\"403.27941\" xlink:href=\"#m1b84613431\" y=\"282.799219\"/>\r\n      </g>\r\n     </g>\r\n     <g id=\"text_5\">\r\n      <!-- 20 -->\r\n      <defs>\r\n       <path d=\"M 19.1875 8.296875 \r\nL 53.609375 8.296875 \r\nL 53.609375 0 \r\nL 7.328125 0 \r\nL 7.328125 8.296875 \r\nQ 12.9375 14.109375 22.625 23.890625 \r\nQ 32.328125 33.6875 34.8125 36.53125 \r\nQ 39.546875 41.84375 41.421875 45.53125 \r\nQ 43.3125 49.21875 43.3125 52.78125 \r\nQ 43.3125 58.59375 39.234375 62.25 \r\nQ 35.15625 65.921875 28.609375 65.921875 \r\nQ 23.96875 65.921875 18.8125 64.3125 \r\nQ 13.671875 62.703125 7.8125 59.421875 \r\nL 7.8125 69.390625 \r\nQ 13.765625 71.78125 18.9375 73 \r\nQ 24.125 74.21875 28.421875 74.21875 \r\nQ 39.75 74.21875 46.484375 68.546875 \r\nQ 53.21875 62.890625 53.21875 53.421875 \r\nQ 53.21875 48.921875 51.53125 44.890625 \r\nQ 49.859375 40.875 45.40625 35.40625 \r\nQ 44.1875 33.984375 37.640625 27.21875 \r\nQ 31.109375 20.453125 19.1875 8.296875 \r\nz\r\n\" id=\"DejaVuSans-50\"/>\r\n      </defs>\r\n      <g transform=\"translate(396.91691 297.397656)scale(0.1 -0.1)\">\r\n       <use xlink:href=\"#DejaVuSans-50\"/>\r\n       <use x=\"63.623047\" xlink:href=\"#DejaVuSans-48\"/>\r\n      </g>\r\n     </g>\r\n    </g>\r\n   </g>\r\n   <g id=\"matplotlib.axis_2\">\r\n    <g id=\"ytick_1\">\r\n     <g id=\"line2d_11\">\r\n      <path clip-path=\"url(#p7816738c96)\" d=\"M 30.103125 282.799219 \r\nL 476.503125 282.799219 \r\n\" style=\"fill:none;stroke:#b0b0b0;stroke-linecap:square;stroke-width:0.8;\"/>\r\n     </g>\r\n     <g id=\"line2d_12\">\r\n      <defs>\r\n       <path d=\"M 0 0 \r\nL -3.5 0 \r\n\" id=\"m1b20dddb9d\" style=\"stroke:#000000;stroke-width:0.8;\"/>\r\n      </defs>\r\n      <g>\r\n       <use style=\"stroke:#000000;stroke-width:0.8;\" x=\"30.103125\" xlink:href=\"#m1b20dddb9d\" y=\"282.799219\"/>\r\n      </g>\r\n     </g>\r\n     <g id=\"text_6\">\r\n      <!-- 0.0 -->\r\n      <defs>\r\n       <path d=\"M 10.6875 12.40625 \r\nL 21 12.40625 \r\nL 21 0 \r\nL 10.6875 0 \r\nz\r\n\" id=\"DejaVuSans-46\"/>\r\n      </defs>\r\n      <g transform=\"translate(7.2 286.598437)scale(0.1 -0.1)\">\r\n       <use xlink:href=\"#DejaVuSans-48\"/>\r\n       <use x=\"63.623047\" xlink:href=\"#DejaVuSans-46\"/>\r\n       <use x=\"95.410156\" xlink:href=\"#DejaVuSans-48\"/>\r\n      </g>\r\n     </g>\r\n    </g>\r\n    <g id=\"ytick_2\">\r\n     <g id=\"line2d_13\">\r\n      <path clip-path=\"url(#p7816738c96)\" d=\"M 30.103125 228.439219 \r\nL 476.503125 228.439219 \r\n\" style=\"fill:none;stroke:#b0b0b0;stroke-linecap:square;stroke-width:0.8;\"/>\r\n     </g>\r\n     <g id=\"line2d_14\">\r\n      <g>\r\n       <use style=\"stroke:#000000;stroke-width:0.8;\" x=\"30.103125\" xlink:href=\"#m1b20dddb9d\" y=\"228.439219\"/>\r\n      </g>\r\n     </g>\r\n     <g id=\"text_7\">\r\n      <!-- 0.2 -->\r\n      <g transform=\"translate(7.2 232.238437)scale(0.1 -0.1)\">\r\n       <use xlink:href=\"#DejaVuSans-48\"/>\r\n       <use x=\"63.623047\" xlink:href=\"#DejaVuSans-46\"/>\r\n       <use x=\"95.410156\" xlink:href=\"#DejaVuSans-50\"/>\r\n      </g>\r\n     </g>\r\n    </g>\r\n    <g id=\"ytick_3\">\r\n     <g id=\"line2d_15\">\r\n      <path clip-path=\"url(#p7816738c96)\" d=\"M 30.103125 174.079219 \r\nL 476.503125 174.079219 \r\n\" style=\"fill:none;stroke:#b0b0b0;stroke-linecap:square;stroke-width:0.8;\"/>\r\n     </g>\r\n     <g id=\"line2d_16\">\r\n      <g>\r\n       <use style=\"stroke:#000000;stroke-width:0.8;\" x=\"30.103125\" xlink:href=\"#m1b20dddb9d\" y=\"174.079219\"/>\r\n      </g>\r\n     </g>\r\n     <g id=\"text_8\">\r\n      <!-- 0.4 -->\r\n      <defs>\r\n       <path d=\"M 37.796875 64.3125 \r\nL 12.890625 25.390625 \r\nL 37.796875 25.390625 \r\nz\r\nM 35.203125 72.90625 \r\nL 47.609375 72.90625 \r\nL 47.609375 25.390625 \r\nL 58.015625 25.390625 \r\nL 58.015625 17.1875 \r\nL 47.609375 17.1875 \r\nL 47.609375 0 \r\nL 37.796875 0 \r\nL 37.796875 17.1875 \r\nL 4.890625 17.1875 \r\nL 4.890625 26.703125 \r\nz\r\n\" id=\"DejaVuSans-52\"/>\r\n      </defs>\r\n      <g transform=\"translate(7.2 177.878437)scale(0.1 -0.1)\">\r\n       <use xlink:href=\"#DejaVuSans-48\"/>\r\n       <use x=\"63.623047\" xlink:href=\"#DejaVuSans-46\"/>\r\n       <use x=\"95.410156\" xlink:href=\"#DejaVuSans-52\"/>\r\n      </g>\r\n     </g>\r\n    </g>\r\n    <g id=\"ytick_4\">\r\n     <g id=\"line2d_17\">\r\n      <path clip-path=\"url(#p7816738c96)\" d=\"M 30.103125 119.719219 \r\nL 476.503125 119.719219 \r\n\" style=\"fill:none;stroke:#b0b0b0;stroke-linecap:square;stroke-width:0.8;\"/>\r\n     </g>\r\n     <g id=\"line2d_18\">\r\n      <g>\r\n       <use style=\"stroke:#000000;stroke-width:0.8;\" x=\"30.103125\" xlink:href=\"#m1b20dddb9d\" y=\"119.719219\"/>\r\n      </g>\r\n     </g>\r\n     <g id=\"text_9\">\r\n      <!-- 0.6 -->\r\n      <defs>\r\n       <path d=\"M 33.015625 40.375 \r\nQ 26.375 40.375 22.484375 35.828125 \r\nQ 18.609375 31.296875 18.609375 23.390625 \r\nQ 18.609375 15.53125 22.484375 10.953125 \r\nQ 26.375 6.390625 33.015625 6.390625 \r\nQ 39.65625 6.390625 43.53125 10.953125 \r\nQ 47.40625 15.53125 47.40625 23.390625 \r\nQ 47.40625 31.296875 43.53125 35.828125 \r\nQ 39.65625 40.375 33.015625 40.375 \r\nz\r\nM 52.59375 71.296875 \r\nL 52.59375 62.3125 \r\nQ 48.875 64.0625 45.09375 64.984375 \r\nQ 41.3125 65.921875 37.59375 65.921875 \r\nQ 27.828125 65.921875 22.671875 59.328125 \r\nQ 17.53125 52.734375 16.796875 39.40625 \r\nQ 19.671875 43.65625 24.015625 45.921875 \r\nQ 28.375 48.1875 33.59375 48.1875 \r\nQ 44.578125 48.1875 50.953125 41.515625 \r\nQ 57.328125 34.859375 57.328125 23.390625 \r\nQ 57.328125 12.15625 50.6875 5.359375 \r\nQ 44.046875 -1.421875 33.015625 -1.421875 \r\nQ 20.359375 -1.421875 13.671875 8.265625 \r\nQ 6.984375 17.96875 6.984375 36.375 \r\nQ 6.984375 53.65625 15.1875 63.9375 \r\nQ 23.390625 74.21875 37.203125 74.21875 \r\nQ 40.921875 74.21875 44.703125 73.484375 \r\nQ 48.484375 72.75 52.59375 71.296875 \r\nz\r\n\" id=\"DejaVuSans-54\"/>\r\n      </defs>\r\n      <g transform=\"translate(7.2 123.518437)scale(0.1 -0.1)\">\r\n       <use xlink:href=\"#DejaVuSans-48\"/>\r\n       <use x=\"63.623047\" xlink:href=\"#DejaVuSans-46\"/>\r\n       <use x=\"95.410156\" xlink:href=\"#DejaVuSans-54\"/>\r\n      </g>\r\n     </g>\r\n    </g>\r\n    <g id=\"ytick_5\">\r\n     <g id=\"line2d_19\">\r\n      <path clip-path=\"url(#p7816738c96)\" d=\"M 30.103125 65.359219 \r\nL 476.503125 65.359219 \r\n\" style=\"fill:none;stroke:#b0b0b0;stroke-linecap:square;stroke-width:0.8;\"/>\r\n     </g>\r\n     <g id=\"line2d_20\">\r\n      <g>\r\n       <use style=\"stroke:#000000;stroke-width:0.8;\" x=\"30.103125\" xlink:href=\"#m1b20dddb9d\" y=\"65.359219\"/>\r\n      </g>\r\n     </g>\r\n     <g id=\"text_10\">\r\n      <!-- 0.8 -->\r\n      <defs>\r\n       <path d=\"M 31.78125 34.625 \r\nQ 24.75 34.625 20.71875 30.859375 \r\nQ 16.703125 27.09375 16.703125 20.515625 \r\nQ 16.703125 13.921875 20.71875 10.15625 \r\nQ 24.75 6.390625 31.78125 6.390625 \r\nQ 38.8125 6.390625 42.859375 10.171875 \r\nQ 46.921875 13.96875 46.921875 20.515625 \r\nQ 46.921875 27.09375 42.890625 30.859375 \r\nQ 38.875 34.625 31.78125 34.625 \r\nz\r\nM 21.921875 38.8125 \r\nQ 15.578125 40.375 12.03125 44.71875 \r\nQ 8.5 49.078125 8.5 55.328125 \r\nQ 8.5 64.0625 14.71875 69.140625 \r\nQ 20.953125 74.21875 31.78125 74.21875 \r\nQ 42.671875 74.21875 48.875 69.140625 \r\nQ 55.078125 64.0625 55.078125 55.328125 \r\nQ 55.078125 49.078125 51.53125 44.71875 \r\nQ 48 40.375 41.703125 38.8125 \r\nQ 48.828125 37.15625 52.796875 32.3125 \r\nQ 56.78125 27.484375 56.78125 20.515625 \r\nQ 56.78125 9.90625 50.3125 4.234375 \r\nQ 43.84375 -1.421875 31.78125 -1.421875 \r\nQ 19.734375 -1.421875 13.25 4.234375 \r\nQ 6.78125 9.90625 6.78125 20.515625 \r\nQ 6.78125 27.484375 10.78125 32.3125 \r\nQ 14.796875 37.15625 21.921875 38.8125 \r\nz\r\nM 18.3125 54.390625 \r\nQ 18.3125 48.734375 21.84375 45.5625 \r\nQ 25.390625 42.390625 31.78125 42.390625 \r\nQ 38.140625 42.390625 41.71875 45.5625 \r\nQ 45.3125 48.734375 45.3125 54.390625 \r\nQ 45.3125 60.0625 41.71875 63.234375 \r\nQ 38.140625 66.40625 31.78125 66.40625 \r\nQ 25.390625 66.40625 21.84375 63.234375 \r\nQ 18.3125 60.0625 18.3125 54.390625 \r\nz\r\n\" id=\"DejaVuSans-56\"/>\r\n      </defs>\r\n      <g transform=\"translate(7.2 69.158437)scale(0.1 -0.1)\">\r\n       <use xlink:href=\"#DejaVuSans-48\"/>\r\n       <use x=\"63.623047\" xlink:href=\"#DejaVuSans-46\"/>\r\n       <use x=\"95.410156\" xlink:href=\"#DejaVuSans-56\"/>\r\n      </g>\r\n     </g>\r\n    </g>\r\n    <g id=\"ytick_6\">\r\n     <g id=\"line2d_21\">\r\n      <path clip-path=\"url(#p7816738c96)\" d=\"M 30.103125 10.999219 \r\nL 476.503125 10.999219 \r\n\" style=\"fill:none;stroke:#b0b0b0;stroke-linecap:square;stroke-width:0.8;\"/>\r\n     </g>\r\n     <g id=\"line2d_22\">\r\n      <g>\r\n       <use style=\"stroke:#000000;stroke-width:0.8;\" x=\"30.103125\" xlink:href=\"#m1b20dddb9d\" y=\"10.999219\"/>\r\n      </g>\r\n     </g>\r\n     <g id=\"text_11\">\r\n      <!-- 1.0 -->\r\n      <g transform=\"translate(7.2 14.798437)scale(0.1 -0.1)\">\r\n       <use xlink:href=\"#DejaVuSans-49\"/>\r\n       <use x=\"63.623047\" xlink:href=\"#DejaVuSans-46\"/>\r\n       <use x=\"95.410156\" xlink:href=\"#DejaVuSans-48\"/>\r\n      </g>\r\n     </g>\r\n    </g>\r\n   </g>\r\n   <g id=\"line2d_23\">\r\n    <path clip-path=\"url(#p7816738c96)\" d=\"M 441.506421 -1 \r\nL 456.212216 4.576319 \r\n\" style=\"fill:none;stroke:#1f77b4;stroke-linecap:square;stroke-width:1.5;\"/>\r\n   </g>\r\n   <g id=\"line2d_24\">\r\n    <path clip-path=\"url(#p7816738c96)\" d=\"M 50.394034 193.425338 \r\nL 68.038303 171.300816 \r\nL 85.682572 162.349538 \r\nL 103.32684 155.765938 \r\nL 120.971109 152.214422 \r\nL 138.615378 148.668942 \r\nL 156.259647 144.742943 \r\nL 173.903916 142.121582 \r\nL 191.548184 138.896216 \r\nL 209.192453 136.95134 \r\nL 226.836722 134.952096 \r\nL 244.480991 132.656901 \r\nL 262.125259 130.24694 \r\nL 279.769528 128.471183 \r\nL 297.413797 126.556505 \r\nL 315.058066 124.587459 \r\nL 332.702334 122.654653 \r\nL 350.346603 120.01518 \r\nL 367.990872 116.379098 \r\nL 385.635141 115.303981 \r\nL 403.27941 114.452335 \r\nL 420.923678 113.431571 \r\nL 438.567947 111.547092 \r\nL 456.212216 109.650543 \r\n\" style=\"fill:none;stroke:#ff7f0e;stroke-linecap:square;stroke-width:1.5;\"/>\r\n   </g>\r\n   <g id=\"line2d_25\">\r\n    <path clip-path=\"url(#p7816738c96)\" style=\"fill:none;stroke:#2ca02c;stroke-linecap:square;stroke-width:1.5;\"/>\r\n   </g>\r\n   <g id=\"line2d_26\">\r\n    <path clip-path=\"url(#p7816738c96)\" d=\"M 50.394034 163.533377 \r\nL 68.038303 160.434861 \r\nL 85.682572 154.237821 \r\nL 103.32684 151.574177 \r\nL 120.971109 149.073615 \r\nL 138.615378 146.02946 \r\nL 156.259647 145.703295 \r\nL 173.903916 144.887905 \r\nL 191.548184 143.528907 \r\nL 209.192453 141.191411 \r\nL 226.836722 140.75654 \r\nL 244.480991 140.321653 \r\nL 262.125259 141.028337 \r\nL 279.769528 136.733897 \r\nL 297.413797 137.984174 \r\nL 315.058066 137.440581 \r\nL 332.702334 136.570822 \r\nL 350.346603 134.396418 \r\nL 367.990872 133.744103 \r\nL 385.635141 136.679544 \r\nL 403.27941 133.526659 \r\nL 420.923678 134.776936 \r\nL 438.567947 135.374898 \r\nL 456.212216 133.037419 \r\n\" style=\"fill:none;stroke:#d62728;stroke-linecap:square;stroke-width:1.5;\"/>\r\n   </g>\r\n   <g id=\"line2d_27\">\r\n    <path clip-path=\"url(#p7816738c96)\" d=\"M 50.394034 282.663319 \r\nL 68.038303 282.663319 \r\nL 85.682572 282.663319 \r\nL 103.32684 282.663319 \r\nL 120.971109 282.663319 \r\nL 138.615378 282.663319 \r\nL 156.259647 282.663319 \r\nL 173.903916 282.663319 \r\nL 191.548184 282.663319 \r\nL 209.192453 282.663319 \r\nL 226.836722 282.663319 \r\nL 244.480991 282.663319 \r\nL 262.125259 282.663319 \r\nL 279.769528 282.663319 \r\nL 297.413797 282.663319 \r\nL 315.058066 282.663319 \r\nL 332.702334 282.663319 \r\nL 350.346603 282.663319 \r\nL 367.990872 282.731269 \r\nL 385.635141 282.731269 \r\nL 403.27941 282.731269 \r\nL 420.923678 282.731269 \r\nL 438.567947 282.731269 \r\nL 456.212216 282.765244 \r\n\" style=\"fill:none;stroke:#9467bd;stroke-linecap:square;stroke-width:1.5;\"/>\r\n   </g>\r\n   <g id=\"patch_3\">\r\n    <path d=\"M 30.103125 282.799219 \r\nL 30.103125 10.999219 \r\n\" style=\"fill:none;stroke:#000000;stroke-linecap:square;stroke-linejoin:miter;stroke-width:0.8;\"/>\r\n   </g>\r\n   <g id=\"patch_4\">\r\n    <path d=\"M 476.503125 282.799219 \r\nL 476.503125 10.999219 \r\n\" style=\"fill:none;stroke:#000000;stroke-linecap:square;stroke-linejoin:miter;stroke-width:0.8;\"/>\r\n   </g>\r\n   <g id=\"patch_5\">\r\n    <path d=\"M 30.103125 282.799219 \r\nL 476.503125 282.799219 \r\n\" style=\"fill:none;stroke:#000000;stroke-linecap:square;stroke-linejoin:miter;stroke-width:0.8;\"/>\r\n   </g>\r\n   <g id=\"patch_6\">\r\n    <path d=\"M 30.103125 10.999219 \r\nL 476.503125 10.999219 \r\n\" style=\"fill:none;stroke:#000000;stroke-linecap:square;stroke-linejoin:miter;stroke-width:0.8;\"/>\r\n   </g>\r\n   <g id=\"legend_1\">\r\n    <g id=\"patch_7\">\r\n     <path d=\"M 372.559375 92.946094 \r\nL 469.503125 92.946094 \r\nQ 471.503125 92.946094 471.503125 90.946094 \r\nL 471.503125 17.999219 \r\nQ 471.503125 15.999219 469.503125 15.999219 \r\nL 372.559375 15.999219 \r\nQ 370.559375 15.999219 370.559375 17.999219 \r\nL 370.559375 90.946094 \r\nQ 370.559375 92.946094 372.559375 92.946094 \r\nz\r\n\" style=\"fill:#ffffff;opacity:0.8;stroke:#cccccc;stroke-linejoin:miter;\"/>\r\n    </g>\r\n    <g id=\"line2d_28\">\r\n     <path d=\"M 374.559375 24.097656 \r\nL 394.559375 24.097656 \r\n\" style=\"fill:none;stroke:#1f77b4;stroke-linecap:square;stroke-width:1.5;\"/>\r\n    </g>\r\n    <g id=\"line2d_29\"/>\r\n    <g id=\"text_12\">\r\n     <!-- loss -->\r\n     <defs>\r\n      <path d=\"M 9.421875 75.984375 \r\nL 18.40625 75.984375 \r\nL 18.40625 0 \r\nL 9.421875 0 \r\nz\r\n\" id=\"DejaVuSans-108\"/>\r\n      <path d=\"M 30.609375 48.390625 \r\nQ 23.390625 48.390625 19.1875 42.75 \r\nQ 14.984375 37.109375 14.984375 27.296875 \r\nQ 14.984375 17.484375 19.15625 11.84375 \r\nQ 23.34375 6.203125 30.609375 6.203125 \r\nQ 37.796875 6.203125 41.984375 11.859375 \r\nQ 46.1875 17.53125 46.1875 27.296875 \r\nQ 46.1875 37.015625 41.984375 42.703125 \r\nQ 37.796875 48.390625 30.609375 48.390625 \r\nz\r\nM 30.609375 56 \r\nQ 42.328125 56 49.015625 48.375 \r\nQ 55.71875 40.765625 55.71875 27.296875 \r\nQ 55.71875 13.875 49.015625 6.21875 \r\nQ 42.328125 -1.421875 30.609375 -1.421875 \r\nQ 18.84375 -1.421875 12.171875 6.21875 \r\nQ 5.515625 13.875 5.515625 27.296875 \r\nQ 5.515625 40.765625 12.171875 48.375 \r\nQ 18.84375 56 30.609375 56 \r\nz\r\n\" id=\"DejaVuSans-111\"/>\r\n      <path d=\"M 44.28125 53.078125 \r\nL 44.28125 44.578125 \r\nQ 40.484375 46.53125 36.375 47.5 \r\nQ 32.28125 48.484375 27.875 48.484375 \r\nQ 21.1875 48.484375 17.84375 46.4375 \r\nQ 14.5 44.390625 14.5 40.28125 \r\nQ 14.5 37.15625 16.890625 35.375 \r\nQ 19.28125 33.59375 26.515625 31.984375 \r\nL 29.59375 31.296875 \r\nQ 39.15625 29.25 43.1875 25.515625 \r\nQ 47.21875 21.78125 47.21875 15.09375 \r\nQ 47.21875 7.46875 41.1875 3.015625 \r\nQ 35.15625 -1.421875 24.609375 -1.421875 \r\nQ 20.21875 -1.421875 15.453125 -0.5625 \r\nQ 10.6875 0.296875 5.421875 2 \r\nL 5.421875 11.28125 \r\nQ 10.40625 8.6875 15.234375 7.390625 \r\nQ 20.0625 6.109375 24.8125 6.109375 \r\nQ 31.15625 6.109375 34.5625 8.28125 \r\nQ 37.984375 10.453125 37.984375 14.40625 \r\nQ 37.984375 18.0625 35.515625 20.015625 \r\nQ 33.0625 21.96875 24.703125 23.78125 \r\nL 21.578125 24.515625 \r\nQ 13.234375 26.265625 9.515625 29.90625 \r\nQ 5.8125 33.546875 5.8125 39.890625 \r\nQ 5.8125 47.609375 11.28125 51.796875 \r\nQ 16.75 56 26.8125 56 \r\nQ 31.78125 56 36.171875 55.265625 \r\nQ 40.578125 54.546875 44.28125 53.078125 \r\nz\r\n\" id=\"DejaVuSans-115\"/>\r\n     </defs>\r\n     <g transform=\"translate(402.559375 27.597656)scale(0.1 -0.1)\">\r\n      <use xlink:href=\"#DejaVuSans-108\"/>\r\n      <use x=\"27.783203\" xlink:href=\"#DejaVuSans-111\"/>\r\n      <use x=\"88.964844\" xlink:href=\"#DejaVuSans-115\"/>\r\n      <use x=\"141.064453\" xlink:href=\"#DejaVuSans-115\"/>\r\n     </g>\r\n    </g>\r\n    <g id=\"line2d_30\">\r\n     <path d=\"M 374.559375 38.775781 \r\nL 394.559375 38.775781 \r\n\" style=\"fill:none;stroke:#ff7f0e;stroke-linecap:square;stroke-width:1.5;\"/>\r\n    </g>\r\n    <g id=\"line2d_31\"/>\r\n    <g id=\"text_13\">\r\n     <!-- accuracy -->\r\n     <defs>\r\n      <path d=\"M 34.28125 27.484375 \r\nQ 23.390625 27.484375 19.1875 25 \r\nQ 14.984375 22.515625 14.984375 16.5 \r\nQ 14.984375 11.71875 18.140625 8.90625 \r\nQ 21.296875 6.109375 26.703125 6.109375 \r\nQ 34.1875 6.109375 38.703125 11.40625 \r\nQ 43.21875 16.703125 43.21875 25.484375 \r\nL 43.21875 27.484375 \r\nz\r\nM 52.203125 31.203125 \r\nL 52.203125 0 \r\nL 43.21875 0 \r\nL 43.21875 8.296875 \r\nQ 40.140625 3.328125 35.546875 0.953125 \r\nQ 30.953125 -1.421875 24.3125 -1.421875 \r\nQ 15.921875 -1.421875 10.953125 3.296875 \r\nQ 6 8.015625 6 15.921875 \r\nQ 6 25.140625 12.171875 29.828125 \r\nQ 18.359375 34.515625 30.609375 34.515625 \r\nL 43.21875 34.515625 \r\nL 43.21875 35.40625 \r\nQ 43.21875 41.609375 39.140625 45 \r\nQ 35.0625 48.390625 27.6875 48.390625 \r\nQ 23 48.390625 18.546875 47.265625 \r\nQ 14.109375 46.140625 10.015625 43.890625 \r\nL 10.015625 52.203125 \r\nQ 14.9375 54.109375 19.578125 55.046875 \r\nQ 24.21875 56 28.609375 56 \r\nQ 40.484375 56 46.34375 49.84375 \r\nQ 52.203125 43.703125 52.203125 31.203125 \r\nz\r\n\" id=\"DejaVuSans-97\"/>\r\n      <path d=\"M 48.78125 52.59375 \r\nL 48.78125 44.1875 \r\nQ 44.96875 46.296875 41.140625 47.34375 \r\nQ 37.3125 48.390625 33.40625 48.390625 \r\nQ 24.65625 48.390625 19.8125 42.84375 \r\nQ 14.984375 37.3125 14.984375 27.296875 \r\nQ 14.984375 17.28125 19.8125 11.734375 \r\nQ 24.65625 6.203125 33.40625 6.203125 \r\nQ 37.3125 6.203125 41.140625 7.25 \r\nQ 44.96875 8.296875 48.78125 10.40625 \r\nL 48.78125 2.09375 \r\nQ 45.015625 0.34375 40.984375 -0.53125 \r\nQ 36.96875 -1.421875 32.421875 -1.421875 \r\nQ 20.0625 -1.421875 12.78125 6.34375 \r\nQ 5.515625 14.109375 5.515625 27.296875 \r\nQ 5.515625 40.671875 12.859375 48.328125 \r\nQ 20.21875 56 33.015625 56 \r\nQ 37.15625 56 41.109375 55.140625 \r\nQ 45.0625 54.296875 48.78125 52.59375 \r\nz\r\n\" id=\"DejaVuSans-99\"/>\r\n      <path d=\"M 8.5 21.578125 \r\nL 8.5 54.6875 \r\nL 17.484375 54.6875 \r\nL 17.484375 21.921875 \r\nQ 17.484375 14.15625 20.5 10.265625 \r\nQ 23.53125 6.390625 29.59375 6.390625 \r\nQ 36.859375 6.390625 41.078125 11.03125 \r\nQ 45.3125 15.671875 45.3125 23.6875 \r\nL 45.3125 54.6875 \r\nL 54.296875 54.6875 \r\nL 54.296875 0 \r\nL 45.3125 0 \r\nL 45.3125 8.40625 \r\nQ 42.046875 3.421875 37.71875 1 \r\nQ 33.40625 -1.421875 27.6875 -1.421875 \r\nQ 18.265625 -1.421875 13.375 4.4375 \r\nQ 8.5 10.296875 8.5 21.578125 \r\nz\r\nM 31.109375 56 \r\nz\r\n\" id=\"DejaVuSans-117\"/>\r\n      <path d=\"M 41.109375 46.296875 \r\nQ 39.59375 47.171875 37.8125 47.578125 \r\nQ 36.03125 48 33.890625 48 \r\nQ 26.265625 48 22.1875 43.046875 \r\nQ 18.109375 38.09375 18.109375 28.8125 \r\nL 18.109375 0 \r\nL 9.078125 0 \r\nL 9.078125 54.6875 \r\nL 18.109375 54.6875 \r\nL 18.109375 46.1875 \r\nQ 20.953125 51.171875 25.484375 53.578125 \r\nQ 30.03125 56 36.53125 56 \r\nQ 37.453125 56 38.578125 55.875 \r\nQ 39.703125 55.765625 41.0625 55.515625 \r\nz\r\n\" id=\"DejaVuSans-114\"/>\r\n      <path d=\"M 32.171875 -5.078125 \r\nQ 28.375 -14.84375 24.75 -17.8125 \r\nQ 21.140625 -20.796875 15.09375 -20.796875 \r\nL 7.90625 -20.796875 \r\nL 7.90625 -13.28125 \r\nL 13.1875 -13.28125 \r\nQ 16.890625 -13.28125 18.9375 -11.515625 \r\nQ 21 -9.765625 23.484375 -3.21875 \r\nL 25.09375 0.875 \r\nL 2.984375 54.6875 \r\nL 12.5 54.6875 \r\nL 29.59375 11.921875 \r\nL 46.6875 54.6875 \r\nL 56.203125 54.6875 \r\nz\r\n\" id=\"DejaVuSans-121\"/>\r\n     </defs>\r\n     <g transform=\"translate(402.559375 42.275781)scale(0.1 -0.1)\">\r\n      <use xlink:href=\"#DejaVuSans-97\"/>\r\n      <use x=\"61.279297\" xlink:href=\"#DejaVuSans-99\"/>\r\n      <use x=\"116.259766\" xlink:href=\"#DejaVuSans-99\"/>\r\n      <use x=\"171.240234\" xlink:href=\"#DejaVuSans-117\"/>\r\n      <use x=\"234.619141\" xlink:href=\"#DejaVuSans-114\"/>\r\n      <use x=\"275.732422\" xlink:href=\"#DejaVuSans-97\"/>\r\n      <use x=\"337.011719\" xlink:href=\"#DejaVuSans-99\"/>\r\n      <use x=\"391.992188\" xlink:href=\"#DejaVuSans-121\"/>\r\n     </g>\r\n    </g>\r\n    <g id=\"line2d_32\">\r\n     <path d=\"M 374.559375 53.453906 \r\nL 394.559375 53.453906 \r\n\" style=\"fill:none;stroke:#2ca02c;stroke-linecap:square;stroke-width:1.5;\"/>\r\n    </g>\r\n    <g id=\"line2d_33\"/>\r\n    <g id=\"text_14\">\r\n     <!-- val_loss -->\r\n     <defs>\r\n      <path d=\"M 2.984375 54.6875 \r\nL 12.5 54.6875 \r\nL 29.59375 8.796875 \r\nL 46.6875 54.6875 \r\nL 56.203125 54.6875 \r\nL 35.6875 0 \r\nL 23.484375 0 \r\nz\r\n\" id=\"DejaVuSans-118\"/>\r\n      <path d=\"M 50.984375 -16.609375 \r\nL 50.984375 -23.578125 \r\nL -0.984375 -23.578125 \r\nL -0.984375 -16.609375 \r\nz\r\n\" id=\"DejaVuSans-95\"/>\r\n     </defs>\r\n     <g transform=\"translate(402.559375 56.953906)scale(0.1 -0.1)\">\r\n      <use xlink:href=\"#DejaVuSans-118\"/>\r\n      <use x=\"59.179688\" xlink:href=\"#DejaVuSans-97\"/>\r\n      <use x=\"120.458984\" xlink:href=\"#DejaVuSans-108\"/>\r\n      <use x=\"148.242188\" xlink:href=\"#DejaVuSans-95\"/>\r\n      <use x=\"198.242188\" xlink:href=\"#DejaVuSans-108\"/>\r\n      <use x=\"226.025391\" xlink:href=\"#DejaVuSans-111\"/>\r\n      <use x=\"287.207031\" xlink:href=\"#DejaVuSans-115\"/>\r\n      <use x=\"339.306641\" xlink:href=\"#DejaVuSans-115\"/>\r\n     </g>\r\n    </g>\r\n    <g id=\"line2d_34\">\r\n     <path d=\"M 374.559375 68.410156 \r\nL 394.559375 68.410156 \r\n\" style=\"fill:none;stroke:#d62728;stroke-linecap:square;stroke-width:1.5;\"/>\r\n    </g>\r\n    <g id=\"line2d_35\"/>\r\n    <g id=\"text_15\">\r\n     <!-- val_accuracy -->\r\n     <g transform=\"translate(402.559375 71.910156)scale(0.1 -0.1)\">\r\n      <use xlink:href=\"#DejaVuSans-118\"/>\r\n      <use x=\"59.179688\" xlink:href=\"#DejaVuSans-97\"/>\r\n      <use x=\"120.458984\" xlink:href=\"#DejaVuSans-108\"/>\r\n      <use x=\"148.242188\" xlink:href=\"#DejaVuSans-95\"/>\r\n      <use x=\"198.242188\" xlink:href=\"#DejaVuSans-97\"/>\r\n      <use x=\"259.521484\" xlink:href=\"#DejaVuSans-99\"/>\r\n      <use x=\"314.501953\" xlink:href=\"#DejaVuSans-99\"/>\r\n      <use x=\"369.482422\" xlink:href=\"#DejaVuSans-117\"/>\r\n      <use x=\"432.861328\" xlink:href=\"#DejaVuSans-114\"/>\r\n      <use x=\"473.974609\" xlink:href=\"#DejaVuSans-97\"/>\r\n      <use x=\"535.253906\" xlink:href=\"#DejaVuSans-99\"/>\r\n      <use x=\"590.234375\" xlink:href=\"#DejaVuSans-121\"/>\r\n     </g>\r\n    </g>\r\n    <g id=\"line2d_36\">\r\n     <path d=\"M 374.559375 83.366406 \r\nL 394.559375 83.366406 \r\n\" style=\"fill:none;stroke:#9467bd;stroke-linecap:square;stroke-width:1.5;\"/>\r\n    </g>\r\n    <g id=\"line2d_37\"/>\r\n    <g id=\"text_16\">\r\n     <!-- lr -->\r\n     <g transform=\"translate(402.559375 86.866406)scale(0.1 -0.1)\">\r\n      <use xlink:href=\"#DejaVuSans-108\"/>\r\n      <use x=\"27.783203\" xlink:href=\"#DejaVuSans-114\"/>\r\n     </g>\r\n    </g>\r\n   </g>\r\n  </g>\r\n </g>\r\n <defs>\r\n  <clipPath id=\"p7816738c96\">\r\n   <rect height=\"271.8\" width=\"446.4\" x=\"30.103125\" y=\"10.999219\"/>\r\n  </clipPath>\r\n </defs>\r\n</svg>\r\n",
      "image/png": "[encoded data removed]"
     },
     "metadata": {
      "needs_background": "light"
     }
    }
   ],
   "source": [
    "# Show the learning curves.\n",
    "# (The training curves should be shifted half an epoch to the left to be completely comparable with the validation curves).\n",
    "\n",
    "pd.DataFrame(history.history).plot(figsize = (8, 5))\n",
    "plt.grid(True)\n",
    "plt.gca().set_ylim(0, 1)\n",
    "plt.show()"
   ]
  },
  {
   "cell_type": "code",
   "execution_count": 83,
   "metadata": {},
   "outputs": [
    {
     "output_type": "stream",
     "name": "stdout",
     "text": [
      "313/313 [==============================] - 0s 1ms/step - loss: 1.4117 - accuracy: 0.5416\n"
     ]
    },
    {
     "output_type": "execute_result",
     "data": {
      "text/plain": [
       "[1.4117159843444824, 0.5415999889373779]"
      ]
     },
     "metadata": {},
     "execution_count": 83
    }
   ],
   "source": [
    "model.evaluate(data_test_standardized, label_test)"
   ]
  },
  {
   "cell_type": "code",
   "execution_count": null,
   "metadata": {},
   "outputs": [],
   "source": []
  }
 ]
}