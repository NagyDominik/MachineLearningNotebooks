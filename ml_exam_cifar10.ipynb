{
 "metadata": {
  "language_info": {
   "codemirror_mode": {
    "name": "ipython",
    "version": 3
   },
   "file_extension": ".py",
   "mimetype": "text/x-python",
   "name": "python",
   "nbconvert_exporter": "python",
   "pygments_lexer": "ipython3",
   "version": "3.8.5-final"
  },
  "orig_nbformat": 2,
  "kernelspec": {
   "name": "python3",
   "display_name": "Python 3"
  }
 },
 "nbformat": 4,
 "nbformat_minor": 2,
 "cells": [
  {
   "source": [
    "# Exam project - CIFAR10"
   ],
   "cell_type": "markdown",
   "metadata": {}
  },
  {
   "source": [
    "## Setup"
   ],
   "cell_type": "markdown",
   "metadata": {}
  },
  {
   "cell_type": "code",
   "execution_count": 1,
   "metadata": {},
   "outputs": [],
   "source": [
    "# Common imports\n",
    "import sys\n",
    "import os\n",
    "import time\n",
    "import sklearn\n",
    "import numpy as np\n",
    "import pandas as pd\n",
    "import tensorflow as tf\n",
    "from tensorflow import keras\n",
    "\n",
    "# to make this notebook's output stable across runs\n",
    "np.random.seed(42)\n",
    "tf.random.set_seed(42)\n",
    "\n",
    "%matplotlib inline\n",
    "import matplotlib.pyplot as plt\n",
    "\n",
    "# Ignore useless warnings (see SciPy issue #5998)\n",
    "import warnings\n",
    "warnings.filterwarnings(action = \"ignore\", message = \"^internal gelsd\")"
   ]
  },
  {
   "source": [
    "## Load the data\n",
    "Keras has a number of functions to load popular datasets in keras.datasets. The dataset is already split for you between a training set and a test set."
   ],
   "cell_type": "markdown",
   "metadata": {}
  },
  {
   "cell_type": "code",
   "execution_count": 2,
   "metadata": {},
   "outputs": [],
   "source": [
    "cifar10 = keras.datasets.cifar10\n",
    "(data_train_full, label_train_full), (data_test, label_test) = cifar10.load_data()"
   ]
  },
  {
   "cell_type": "code",
   "execution_count": null,
   "metadata": {},
   "outputs": [],
   "source": [
    "# Show the size and dimension of the dataset. 50k element, 32x32 images, RGB color layers\n",
    "print('Full set:', data_train_full.shape)"
   ]
  },
  {
   "cell_type": "code",
   "execution_count": 3,
   "metadata": {},
   "outputs": [],
   "source": [
    "# Split the full training set into a validation set and a (smaller) training set, and scale the pixel intensities down to the 0-1 range and convert them to floats, by dividing by 255.0\n",
    "# validate: 0-5000, train: 5000-\n",
    "data_validation, data_train = data_train_full[:5000] / 255.0, data_train_full[5000:] / 255.0 \n",
    "label_validation, label_train = label_train_full[:5000], label_train_full[5000:]\n",
    "data_test = data_test / 255.0"
   ]
  },
  {
   "cell_type": "code",
   "execution_count": 4,
   "metadata": {},
   "outputs": [
    {
     "output_type": "stream",
     "name": "stdout",
     "text": [
      "Train: (45000, 32, 32, 3)\nValidate: (5000, 32, 32, 3)\n"
     ]
    }
   ],
   "source": [
    "print('Train:', data_train.shape)\n",
    "print('Validate:', data_validation.shape)"
   ]
  },
  {
   "cell_type": "code",
   "execution_count": 5,
   "metadata": {},
   "outputs": [
    {
     "output_type": "display_data",
     "data": {
      "text/plain": "<Figure size 432x288 with 1 Axes>",
      "image/svg+xml": "<?xml version=\"1.0\" encoding=\"utf-8\" standalone=\"no\"?>\r\n<!DOCTYPE svg PUBLIC \"-//W3C//DTD SVG 1.1//EN\"\r\n  \"http://www.w3.org/Graphics/SVG/1.1/DTD/svg11.dtd\">\r\n<!-- Created with matplotlib (https://matplotlib.org/) -->\r\n<svg height=\"231.84pt\" version=\"1.1\" viewBox=\"0 0 231.84 231.84\" width=\"231.84pt\" xmlns=\"http://www.w3.org/2000/svg\" xmlns:xlink=\"http://www.w3.org/1999/xlink\">\r\n <metadata>\r\n  <rdf:RDF xmlns:cc=\"http://creativecommons.org/ns#\" xmlns:dc=\"http://purl.org/dc/elements/1.1/\" xmlns:rdf=\"http://www.w3.org/1999/02/22-rdf-syntax-ns#\">\r\n   <cc:Work>\r\n    <dc:type rdf:resource=\"http://purl.org/dc/dcmitype/StillImage\"/>\r\n    <dc:date>2020-12-08T11:33:47.068807</dc:date>\r\n    <dc:format>image/svg+xml</dc:format>\r\n    <dc:creator>\r\n     <cc:Agent>\r\n      <dc:title>Matplotlib v3.3.2, https://matplotlib.org/</dc:title>\r\n     </cc:Agent>\r\n    </dc:creator>\r\n   </cc:Work>\r\n  </rdf:RDF>\r\n </metadata>\r\n <defs>\r\n  <style type=\"text/css\">*{stroke-linecap:butt;stroke-linejoin:round;}</style>\r\n </defs>\r\n <g id=\"figure_1\">\r\n  <g id=\"patch_1\">\r\n   <path d=\"M 0 231.84 \r\nL 231.84 231.84 \r\nL 231.84 0 \r\nL 0 0 \r\nz\r\n\" style=\"fill:none;\"/>\r\n  </g>\r\n  <g id=\"axes_1\">\r\n   <g clip-path=\"url(#pe23435d766)\">\r\n    <image height=\"218\" id=\"image77db102991\" transform=\"scale(1 -1)translate(0 -218)\" width=\"218\" x=\"7.2\" xlink:href=\"data:image/png;base64,\r\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\" y=\"-6.64\"/>\r\n   </g>\r\n  </g>\r\n </g>\r\n <defs>\r\n  <clipPath id=\"pe23435d766\">\r\n   <rect height=\"217.44\" width=\"217.44\" x=\"7.2\" y=\"7.2\"/>\r\n  </clipPath>\r\n </defs>\r\n</svg>\r\n",
      "image/png": "[encoded data removed]"
     },
     "metadata": {
      "needs_background": "light"
     }
    }
   ],
   "source": [
    "#Plot an image using Matplotlib's imshow() function\n",
    "plt.imshow(data_train[0])\n",
    "plt.axis('off')\n",
    "plt.show()"
   ]
  },
  {
   "cell_type": "code",
   "execution_count": 6,
   "metadata": {},
   "outputs": [
    {
     "output_type": "execute_result",
     "data": {
      "text/plain": [
       "'Frog'"
      ]
     },
     "metadata": {},
     "execution_count": 6
    }
   ],
   "source": [
    "class_names = [\"Airplane\", \"Automobile\", \"Bird\", \"Cat\", \"Deer\",\n",
    "               \"Dog\", \"Frog\", \"Horse\", \"Ship\", \"Truck\"]\n",
    "class_names[label_train[0][0]]"
   ]
  },
  {
   "source": [
    "## Standardize the data\n",
    "Because we want to use the SELU activation function and LeCun weight initializer, we should standardize all the input features to a mean of 0 and a standard deviation of 1. Since each pixel is an input feature, there are 28x28=784 input features, and we need to compute the mean and standard deviation for each of them."
   ],
   "cell_type": "markdown",
   "metadata": {}
  },
  {
   "cell_type": "code",
   "execution_count": 7,
   "metadata": {},
   "outputs": [
    {
     "output_type": "stream",
     "name": "stdout",
     "text": [
      "Means: (1, 32, 32, 3)\n",
      "Standard deviation: (1, 32, 32, 3)\n"
     ]
    }
   ],
   "source": [
    "# Compute the mean for each pixel.\n",
    "pixel_means = data_train.mean(axis = 0, keepdims = True)\n",
    "print('Means:', pixel_means.shape)\n",
    "\n",
    "# Compute the standard deviation for each pixel.\n",
    "pixel_stds = data_train.std(axis = 0, keepdims = True)\n",
    "print('Standard deviation:', pixel_stds.shape)"
   ]
  },
  {
   "cell_type": "code",
   "execution_count": 8,
   "metadata": {},
   "outputs": [],
   "source": [
    "# Scale the inputs to mean 0 and standard deviation 1 to achieve self-normalization with SELU and LeCun.\n",
    "data_train_standardized = (data_train - pixel_means) / pixel_stds\n",
    "data_validation_standardized = (data_validation - pixel_means) / pixel_stds\n",
    "data_test_standardized = (data_test - pixel_means) / pixel_stds"
   ]
  },
  {
   "cell_type": "code",
   "execution_count": null,
   "metadata": {},
   "outputs": [],
   "source": [
    "# Validate that the mean is close to 0 for each pixel.\n",
    "data_train_standardized.mean(axis = 0, keepdims = True)"
   ]
  },
  {
   "cell_type": "code",
   "execution_count": null,
   "metadata": {},
   "outputs": [],
   "source": [
    "# Validate that the standard deviation is close to 1 for each pixel.\n",
    "data_train_standardized.std(axis = 0, keepdims = True)"
   ]
  },
  {
   "source": [
    "## Create the model using the Sequential API"
   ],
   "cell_type": "markdown",
   "metadata": {}
  },
  {
   "cell_type": "code",
   "execution_count": 9,
   "metadata": {},
   "outputs": [],
   "source": [
    "model_path = os.path.join('ml_exam_cifar10', 'best_model')"
   ]
  },
  {
   "source": [
    "model = keras.models.load_model(model_path)"
   ],
   "cell_type": "code",
   "metadata": {},
   "execution_count": 10,
   "outputs": []
  },
  {
   "cell_type": "code",
   "execution_count": null,
   "metadata": {},
   "outputs": [],
   "source": [
    "model = keras.models.Sequential()\n",
    "\n",
    "# Input layer:\n",
    "model.add(keras.layers.Flatten(input_shape = [32, 32, 3]))\n",
    "\n",
    "# Hidden layers:\n",
    "model.add(keras.layers.Dense(500, activation = \"selu\", kernel_initializer = \"lecun_normal\"))\n",
    "\n",
    "# Use alpha dropout in the last hidden layer.\n",
    "model.add(keras.layers.AlphaDropout(rate = 0.2))\n",
    "    \n",
    "# Output layer.\n",
    "model.add(keras.layers.Dense(10, activation = \"softmax\"))"
   ]
  },
  {
   "source": [
    "## Compile the model\n",
    "You must at least specify the loss function and the optimizer to use. You can also specify a list of additional metrics to use during training and evaluation."
   ],
   "cell_type": "markdown",
   "metadata": {}
  },
  {
   "cell_type": "code",
   "execution_count": null,
   "metadata": {},
   "outputs": [],
   "source": [
    "# The optimixer is Stochastic Gradient Descent with momentum optimization. The momentum is set to 0.9.\n",
    "# This value usually works well in practice. We use the default learning rate (0.01).\n",
    "model.compile(loss = \"sparse_categorical_crossentropy\",\n",
    "              optimizer = keras.optimizers.SGD(momentum = 0.9),\n",
    "              metrics = [\"accuracy\"])"
   ]
  },
  {
   "source": [
    "## Train the model"
   ],
   "cell_type": "markdown",
   "metadata": {}
  },
  {
   "cell_type": "code",
   "execution_count": 11,
   "metadata": {},
   "outputs": [
    {
     "output_type": "stream",
     "name": "stdout",
     "text": [
      "Epoch 1/50\n",
      "1407/1407 [==============================] - 7s 5ms/step - loss: 0.7032 - accuracy: 0.7538 - val_loss: 1.6003 - val_accuracy: 0.5746\n",
      "INFO:tensorflow:Assets written to: ml_exam_cifar10\\best_model\\assets\n",
      "Epoch 2/50\n",
      "1407/1407 [==============================] - 6s 5ms/step - loss: 0.6954 - accuracy: 0.7578 - val_loss: 1.5989 - val_accuracy: 0.5782\n",
      "INFO:tensorflow:Assets written to: ml_exam_cifar10\\best_model\\assets\n",
      "Epoch 3/50\n",
      "1407/1407 [==============================] - 6s 5ms/step - loss: 0.6912 - accuracy: 0.7583 - val_loss: 1.6123 - val_accuracy: 0.5766\n",
      "Epoch 4/50\n",
      "1407/1407 [==============================] - 6s 5ms/step - loss: 0.6817 - accuracy: 0.7632 - val_loss: 1.6141 - val_accuracy: 0.5748\n",
      "Epoch 5/50\n",
      "1407/1407 [==============================] - 6s 4ms/step - loss: 0.6728 - accuracy: 0.7632 - val_loss: 1.6178 - val_accuracy: 0.5746\n",
      "Epoch 6/50\n",
      "1407/1407 [==============================] - 6s 5ms/step - loss: 0.6743 - accuracy: 0.7652 - val_loss: 1.6197 - val_accuracy: 0.5782\n",
      "Epoch 7/50\n",
      "1407/1407 [==============================] - 6s 4ms/step - loss: 0.6737 - accuracy: 0.7639 - val_loss: 1.6201 - val_accuracy: 0.5776\n",
      "Epoch 8/50\n",
      "1407/1407 [==============================] - 6s 5ms/step - loss: 0.6694 - accuracy: 0.7666 - val_loss: 1.6167 - val_accuracy: 0.5736\n",
      "Epoch 9/50\n",
      "1407/1407 [==============================] - 6s 4ms/step - loss: 0.6630 - accuracy: 0.7670 - val_loss: 1.6200 - val_accuracy: 0.5772\n",
      "Epoch 10/50\n",
      "1407/1407 [==============================] - 6s 5ms/step - loss: 0.6645 - accuracy: 0.7692 - val_loss: 1.6200 - val_accuracy: 0.5764\n",
      "Epoch 11/50\n",
      "1407/1407 [==============================] - 6s 5ms/step - loss: 0.6629 - accuracy: 0.7697 - val_loss: 1.6256 - val_accuracy: 0.5800\n",
      "Epoch 12/50\n",
      "1407/1407 [==============================] - 6s 4ms/step - loss: 0.6536 - accuracy: 0.7704 - val_loss: 1.6212 - val_accuracy: 0.5774\n"
     ]
    }
   ],
   "source": [
    "# EarlyStopping (with rollback to the best model).\n",
    "early_stopping = keras.callbacks.EarlyStopping(patience = 10, restore_best_weights = True)\n",
    "\n",
    "# Performance scheduling (multiply the learning rate by a factor when the error stops dropping for a number of epochs, called patience)\n",
    "lr_scheduler = keras.callbacks.ReduceLROnPlateau(factor = 0.5, patience = 4)\n",
    "\n",
    "checkpoint = keras.callbacks.ModelCheckpoint(filepath = model_path, monitor = 'val_loss', save_best_only = True, )\n",
    "\n",
    "# Train the model with early stopping or performance scheduling or both. Training is much faster when early stopping is used, but a slightly better accuracy is achieved with performance scheduling alone.\n",
    "history = model.fit(data_train_standardized, label_train, epochs = 50,\n",
    "                    validation_data = (data_validation_standardized, label_validation),\n",
    "                    callbacks = [early_stopping, lr_scheduler, checkpoint])"
   ]
  },
  {
   "cell_type": "code",
   "execution_count": 12,
   "metadata": {},
   "outputs": [
    {
     "output_type": "display_data",
     "data": {
      "text/plain": "<Figure size 576x360 with 1 Axes>",
      "image/svg+xml": "<?xml version=\"1.0\" encoding=\"utf-8\" standalone=\"no\"?>\r\n<!DOCTYPE svg PUBLIC \"-//W3C//DTD SVG 1.1//EN\"\r\n  \"http://www.w3.org/Graphics/SVG/1.1/DTD/svg11.dtd\">\r\n<!-- Created with matplotlib (https://matplotlib.org/) -->\r\n<svg height=\"306.677344pt\" version=\"1.1\" viewBox=\"0 0 483.703125 306.677344\" width=\"483.703125pt\" xmlns=\"http://www.w3.org/2000/svg\" xmlns:xlink=\"http://www.w3.org/1999/xlink\">\r\n <metadata>\r\n  <rdf:RDF xmlns:cc=\"http://creativecommons.org/ns#\" xmlns:dc=\"http://purl.org/dc/elements/1.1/\" xmlns:rdf=\"http://www.w3.org/1999/02/22-rdf-syntax-ns#\">\r\n   <cc:Work>\r\n    <dc:type rdf:resource=\"http://purl.org/dc/dcmitype/StillImage\"/>\r\n    <dc:date>2020-12-08T11:35:32.112677</dc:date>\r\n    <dc:format>image/svg+xml</dc:format>\r\n    <dc:creator>\r\n     <cc:Agent>\r\n      <dc:title>Matplotlib v3.3.2, https://matplotlib.org/</dc:title>\r\n     </cc:Agent>\r\n    </dc:creator>\r\n   </cc:Work>\r\n  </rdf:RDF>\r\n </metadata>\r\n <defs>\r\n  <style type=\"text/css\">*{stroke-linecap:butt;stroke-linejoin:round;}</style>\r\n </defs>\r\n <g id=\"figure_1\">\r\n  <g id=\"patch_1\">\r\n   <path d=\"M 0 306.677344 \r\nL 483.703125 306.677344 \r\nL 483.703125 0 \r\nL 0 0 \r\nz\r\n\" style=\"fill:none;\"/>\r\n  </g>\r\n  <g id=\"axes_1\">\r\n   <g id=\"patch_2\">\r\n    <path d=\"M 30.103125 282.799219 \r\nL 476.503125 282.799219 \r\nL 476.503125 10.999219 \r\nL 30.103125 10.999219 \r\nz\r\n\" style=\"fill:#ffffff;\"/>\r\n   </g>\r\n   <g id=\"matplotlib.axis_1\">\r\n    <g id=\"xtick_1\">\r\n     <g id=\"line2d_1\">\r\n      <path clip-path=\"url(#p71d5352135)\" d=\"M 50.394034 282.799219 \r\nL 50.394034 10.999219 \r\n\" style=\"fill:none;stroke:#b0b0b0;stroke-linecap:square;stroke-width:0.8;\"/>\r\n     </g>\r\n     <g id=\"line2d_2\">\r\n      <defs>\r\n       <path d=\"M 0 0 \r\nL 0 3.5 \r\n\" id=\"ma12e3f8df5\" style=\"stroke:#000000;stroke-width:0.8;\"/>\r\n      </defs>\r\n      <g>\r\n       <use style=\"stroke:#000000;stroke-width:0.8;\" x=\"50.394034\" xlink:href=\"#ma12e3f8df5\" y=\"282.799219\"/>\r\n      </g>\r\n     </g>\r\n     <g id=\"text_1\">\r\n      <!-- 0 -->\r\n      <g transform=\"translate(47.212784 297.397656)scale(0.1 -0.1)\">\r\n       <defs>\r\n        <path d=\"M 31.78125 66.40625 \r\nQ 24.171875 66.40625 20.328125 58.90625 \r\nQ 16.5 51.421875 16.5 36.375 \r\nQ 16.5 21.390625 20.328125 13.890625 \r\nQ 24.171875 6.390625 31.78125 6.390625 \r\nQ 39.453125 6.390625 43.28125 13.890625 \r\nQ 47.125 21.390625 47.125 36.375 \r\nQ 47.125 51.421875 43.28125 58.90625 \r\nQ 39.453125 66.40625 31.78125 66.40625 \r\nz\r\nM 31.78125 74.21875 \r\nQ 44.046875 74.21875 50.515625 64.515625 \r\nQ 56.984375 54.828125 56.984375 36.375 \r\nQ 56.984375 17.96875 50.515625 8.265625 \r\nQ 44.046875 -1.421875 31.78125 -1.421875 \r\nQ 19.53125 -1.421875 13.0625 8.265625 \r\nQ 6.59375 17.96875 6.59375 36.375 \r\nQ 6.59375 54.828125 13.0625 64.515625 \r\nQ 19.53125 74.21875 31.78125 74.21875 \r\nz\r\n\" id=\"DejaVuSans-48\"/>\r\n       </defs>\r\n       <use xlink:href=\"#DejaVuSans-48\"/>\r\n      </g>\r\n     </g>\r\n    </g>\r\n    <g id=\"xtick_2\">\r\n     <g id=\"line2d_3\">\r\n      <path clip-path=\"url(#p71d5352135)\" d=\"M 124.179158 282.799219 \r\nL 124.179158 10.999219 \r\n\" style=\"fill:none;stroke:#b0b0b0;stroke-linecap:square;stroke-width:0.8;\"/>\r\n     </g>\r\n     <g id=\"line2d_4\">\r\n      <g>\r\n       <use style=\"stroke:#000000;stroke-width:0.8;\" x=\"124.179158\" xlink:href=\"#ma12e3f8df5\" y=\"282.799219\"/>\r\n      </g>\r\n     </g>\r\n     <g id=\"text_2\">\r\n      <!-- 2 -->\r\n      <g transform=\"translate(120.997908 297.397656)scale(0.1 -0.1)\">\r\n       <defs>\r\n        <path d=\"M 19.1875 8.296875 \r\nL 53.609375 8.296875 \r\nL 53.609375 0 \r\nL 7.328125 0 \r\nL 7.328125 8.296875 \r\nQ 12.9375 14.109375 22.625 23.890625 \r\nQ 32.328125 33.6875 34.8125 36.53125 \r\nQ 39.546875 41.84375 41.421875 45.53125 \r\nQ 43.3125 49.21875 43.3125 52.78125 \r\nQ 43.3125 58.59375 39.234375 62.25 \r\nQ 35.15625 65.921875 28.609375 65.921875 \r\nQ 23.96875 65.921875 18.8125 64.3125 \r\nQ 13.671875 62.703125 7.8125 59.421875 \r\nL 7.8125 69.390625 \r\nQ 13.765625 71.78125 18.9375 73 \r\nQ 24.125 74.21875 28.421875 74.21875 \r\nQ 39.75 74.21875 46.484375 68.546875 \r\nQ 53.21875 62.890625 53.21875 53.421875 \r\nQ 53.21875 48.921875 51.53125 44.890625 \r\nQ 49.859375 40.875 45.40625 35.40625 \r\nQ 44.1875 33.984375 37.640625 27.21875 \r\nQ 31.109375 20.453125 19.1875 8.296875 \r\nz\r\n\" id=\"DejaVuSans-50\"/>\r\n       </defs>\r\n       <use xlink:href=\"#DejaVuSans-50\"/>\r\n      </g>\r\n     </g>\r\n    </g>\r\n    <g id=\"xtick_3\">\r\n     <g id=\"line2d_5\">\r\n      <path clip-path=\"url(#p71d5352135)\" d=\"M 197.964282 282.799219 \r\nL 197.964282 10.999219 \r\n\" style=\"fill:none;stroke:#b0b0b0;stroke-linecap:square;stroke-width:0.8;\"/>\r\n     </g>\r\n     <g id=\"line2d_6\">\r\n      <g>\r\n       <use style=\"stroke:#000000;stroke-width:0.8;\" x=\"197.964282\" xlink:href=\"#ma12e3f8df5\" y=\"282.799219\"/>\r\n      </g>\r\n     </g>\r\n     <g id=\"text_3\">\r\n      <!-- 4 -->\r\n      <g transform=\"translate(194.783032 297.397656)scale(0.1 -0.1)\">\r\n       <defs>\r\n        <path d=\"M 37.796875 64.3125 \r\nL 12.890625 25.390625 \r\nL 37.796875 25.390625 \r\nz\r\nM 35.203125 72.90625 \r\nL 47.609375 72.90625 \r\nL 47.609375 25.390625 \r\nL 58.015625 25.390625 \r\nL 58.015625 17.1875 \r\nL 47.609375 17.1875 \r\nL 47.609375 0 \r\nL 37.796875 0 \r\nL 37.796875 17.1875 \r\nL 4.890625 17.1875 \r\nL 4.890625 26.703125 \r\nz\r\n\" id=\"DejaVuSans-52\"/>\r\n       </defs>\r\n       <use xlink:href=\"#DejaVuSans-52\"/>\r\n      </g>\r\n     </g>\r\n    </g>\r\n    <g id=\"xtick_4\">\r\n     <g id=\"line2d_7\">\r\n      <path clip-path=\"url(#p71d5352135)\" d=\"M 271.749406 282.799219 \r\nL 271.749406 10.999219 \r\n\" style=\"fill:none;stroke:#b0b0b0;stroke-linecap:square;stroke-width:0.8;\"/>\r\n     </g>\r\n     <g id=\"line2d_8\">\r\n      <g>\r\n       <use style=\"stroke:#000000;stroke-width:0.8;\" x=\"271.749406\" xlink:href=\"#ma12e3f8df5\" y=\"282.799219\"/>\r\n      </g>\r\n     </g>\r\n     <g id=\"text_4\">\r\n      <!-- 6 -->\r\n      <g transform=\"translate(268.568156 297.397656)scale(0.1 -0.1)\">\r\n       <defs>\r\n        <path d=\"M 33.015625 40.375 \r\nQ 26.375 40.375 22.484375 35.828125 \r\nQ 18.609375 31.296875 18.609375 23.390625 \r\nQ 18.609375 15.53125 22.484375 10.953125 \r\nQ 26.375 6.390625 33.015625 6.390625 \r\nQ 39.65625 6.390625 43.53125 10.953125 \r\nQ 47.40625 15.53125 47.40625 23.390625 \r\nQ 47.40625 31.296875 43.53125 35.828125 \r\nQ 39.65625 40.375 33.015625 40.375 \r\nz\r\nM 52.59375 71.296875 \r\nL 52.59375 62.3125 \r\nQ 48.875 64.0625 45.09375 64.984375 \r\nQ 41.3125 65.921875 37.59375 65.921875 \r\nQ 27.828125 65.921875 22.671875 59.328125 \r\nQ 17.53125 52.734375 16.796875 39.40625 \r\nQ 19.671875 43.65625 24.015625 45.921875 \r\nQ 28.375 48.1875 33.59375 48.1875 \r\nQ 44.578125 48.1875 50.953125 41.515625 \r\nQ 57.328125 34.859375 57.328125 23.390625 \r\nQ 57.328125 12.15625 50.6875 5.359375 \r\nQ 44.046875 -1.421875 33.015625 -1.421875 \r\nQ 20.359375 -1.421875 13.671875 8.265625 \r\nQ 6.984375 17.96875 6.984375 36.375 \r\nQ 6.984375 53.65625 15.1875 63.9375 \r\nQ 23.390625 74.21875 37.203125 74.21875 \r\nQ 40.921875 74.21875 44.703125 73.484375 \r\nQ 48.484375 72.75 52.59375 71.296875 \r\nz\r\n\" id=\"DejaVuSans-54\"/>\r\n       </defs>\r\n       <use xlink:href=\"#DejaVuSans-54\"/>\r\n      </g>\r\n     </g>\r\n    </g>\r\n    <g id=\"xtick_5\">\r\n     <g id=\"line2d_9\">\r\n      <path clip-path=\"url(#p71d5352135)\" d=\"M 345.53453 282.799219 \r\nL 345.53453 10.999219 \r\n\" style=\"fill:none;stroke:#b0b0b0;stroke-linecap:square;stroke-width:0.8;\"/>\r\n     </g>\r\n     <g id=\"line2d_10\">\r\n      <g>\r\n       <use style=\"stroke:#000000;stroke-width:0.8;\" x=\"345.53453\" xlink:href=\"#ma12e3f8df5\" y=\"282.799219\"/>\r\n      </g>\r\n     </g>\r\n     <g id=\"text_5\">\r\n      <!-- 8 -->\r\n      <g transform=\"translate(342.35328 297.397656)scale(0.1 -0.1)\">\r\n       <defs>\r\n        <path d=\"M 31.78125 34.625 \r\nQ 24.75 34.625 20.71875 30.859375 \r\nQ 16.703125 27.09375 16.703125 20.515625 \r\nQ 16.703125 13.921875 20.71875 10.15625 \r\nQ 24.75 6.390625 31.78125 6.390625 \r\nQ 38.8125 6.390625 42.859375 10.171875 \r\nQ 46.921875 13.96875 46.921875 20.515625 \r\nQ 46.921875 27.09375 42.890625 30.859375 \r\nQ 38.875 34.625 31.78125 34.625 \r\nz\r\nM 21.921875 38.8125 \r\nQ 15.578125 40.375 12.03125 44.71875 \r\nQ 8.5 49.078125 8.5 55.328125 \r\nQ 8.5 64.0625 14.71875 69.140625 \r\nQ 20.953125 74.21875 31.78125 74.21875 \r\nQ 42.671875 74.21875 48.875 69.140625 \r\nQ 55.078125 64.0625 55.078125 55.328125 \r\nQ 55.078125 49.078125 51.53125 44.71875 \r\nQ 48 40.375 41.703125 38.8125 \r\nQ 48.828125 37.15625 52.796875 32.3125 \r\nQ 56.78125 27.484375 56.78125 20.515625 \r\nQ 56.78125 9.90625 50.3125 4.234375 \r\nQ 43.84375 -1.421875 31.78125 -1.421875 \r\nQ 19.734375 -1.421875 13.25 4.234375 \r\nQ 6.78125 9.90625 6.78125 20.515625 \r\nQ 6.78125 27.484375 10.78125 32.3125 \r\nQ 14.796875 37.15625 21.921875 38.8125 \r\nz\r\nM 18.3125 54.390625 \r\nQ 18.3125 48.734375 21.84375 45.5625 \r\nQ 25.390625 42.390625 31.78125 42.390625 \r\nQ 38.140625 42.390625 41.71875 45.5625 \r\nQ 45.3125 48.734375 45.3125 54.390625 \r\nQ 45.3125 60.0625 41.71875 63.234375 \r\nQ 38.140625 66.40625 31.78125 66.40625 \r\nQ 25.390625 66.40625 21.84375 63.234375 \r\nQ 18.3125 60.0625 18.3125 54.390625 \r\nz\r\n\" id=\"DejaVuSans-56\"/>\r\n       </defs>\r\n       <use xlink:href=\"#DejaVuSans-56\"/>\r\n      </g>\r\n     </g>\r\n    </g>\r\n    <g id=\"xtick_6\">\r\n     <g id=\"line2d_11\">\r\n      <path clip-path=\"url(#p71d5352135)\" d=\"M 419.319654 282.799219 \r\nL 419.319654 10.999219 \r\n\" style=\"fill:none;stroke:#b0b0b0;stroke-linecap:square;stroke-width:0.8;\"/>\r\n     </g>\r\n     <g id=\"line2d_12\">\r\n      <g>\r\n       <use style=\"stroke:#000000;stroke-width:0.8;\" x=\"419.319654\" xlink:href=\"#ma12e3f8df5\" y=\"282.799219\"/>\r\n      </g>\r\n     </g>\r\n     <g id=\"text_6\">\r\n      <!-- 10 -->\r\n      <g transform=\"translate(412.957154 297.397656)scale(0.1 -0.1)\">\r\n       <defs>\r\n        <path d=\"M 12.40625 8.296875 \r\nL 28.515625 8.296875 \r\nL 28.515625 63.921875 \r\nL 10.984375 60.40625 \r\nL 10.984375 69.390625 \r\nL 28.421875 72.90625 \r\nL 38.28125 72.90625 \r\nL 38.28125 8.296875 \r\nL 54.390625 8.296875 \r\nL 54.390625 0 \r\nL 12.40625 0 \r\nz\r\n\" id=\"DejaVuSans-49\"/>\r\n       </defs>\r\n       <use xlink:href=\"#DejaVuSans-49\"/>\r\n       <use x=\"63.623047\" xlink:href=\"#DejaVuSans-48\"/>\r\n      </g>\r\n     </g>\r\n    </g>\r\n   </g>\r\n   <g id=\"matplotlib.axis_2\">\r\n    <g id=\"ytick_1\">\r\n     <g id=\"line2d_13\">\r\n      <path clip-path=\"url(#p71d5352135)\" d=\"M 30.103125 282.799219 \r\nL 476.503125 282.799219 \r\n\" style=\"fill:none;stroke:#b0b0b0;stroke-linecap:square;stroke-width:0.8;\"/>\r\n     </g>\r\n     <g id=\"line2d_14\">\r\n      <defs>\r\n       <path d=\"M 0 0 \r\nL -3.5 0 \r\n\" id=\"m388111f9a5\" style=\"stroke:#000000;stroke-width:0.8;\"/>\r\n      </defs>\r\n      <g>\r\n       <use style=\"stroke:#000000;stroke-width:0.8;\" x=\"30.103125\" xlink:href=\"#m388111f9a5\" y=\"282.799219\"/>\r\n      </g>\r\n     </g>\r\n     <g id=\"text_7\">\r\n      <!-- 0.0 -->\r\n      <g transform=\"translate(7.2 286.598437)scale(0.1 -0.1)\">\r\n       <defs>\r\n        <path d=\"M 10.6875 12.40625 \r\nL 21 12.40625 \r\nL 21 0 \r\nL 10.6875 0 \r\nz\r\n\" id=\"DejaVuSans-46\"/>\r\n       </defs>\r\n       <use xlink:href=\"#DejaVuSans-48\"/>\r\n       <use x=\"63.623047\" xlink:href=\"#DejaVuSans-46\"/>\r\n       <use x=\"95.410156\" xlink:href=\"#DejaVuSans-48\"/>\r\n      </g>\r\n     </g>\r\n    </g>\r\n    <g id=\"ytick_2\">\r\n     <g id=\"line2d_15\">\r\n      <path clip-path=\"url(#p71d5352135)\" d=\"M 30.103125 228.439219 \r\nL 476.503125 228.439219 \r\n\" style=\"fill:none;stroke:#b0b0b0;stroke-linecap:square;stroke-width:0.8;\"/>\r\n     </g>\r\n     <g id=\"line2d_16\">\r\n      <g>\r\n       <use style=\"stroke:#000000;stroke-width:0.8;\" x=\"30.103125\" xlink:href=\"#m388111f9a5\" y=\"228.439219\"/>\r\n      </g>\r\n     </g>\r\n     <g id=\"text_8\">\r\n      <!-- 0.2 -->\r\n      <g transform=\"translate(7.2 232.238437)scale(0.1 -0.1)\">\r\n       <use xlink:href=\"#DejaVuSans-48\"/>\r\n       <use x=\"63.623047\" xlink:href=\"#DejaVuSans-46\"/>\r\n       <use x=\"95.410156\" xlink:href=\"#DejaVuSans-50\"/>\r\n      </g>\r\n     </g>\r\n    </g>\r\n    <g id=\"ytick_3\">\r\n     <g id=\"line2d_17\">\r\n      <path clip-path=\"url(#p71d5352135)\" d=\"M 30.103125 174.079219 \r\nL 476.503125 174.079219 \r\n\" style=\"fill:none;stroke:#b0b0b0;stroke-linecap:square;stroke-width:0.8;\"/>\r\n     </g>\r\n     <g id=\"line2d_18\">\r\n      <g>\r\n       <use style=\"stroke:#000000;stroke-width:0.8;\" x=\"30.103125\" xlink:href=\"#m388111f9a5\" y=\"174.079219\"/>\r\n      </g>\r\n     </g>\r\n     <g id=\"text_9\">\r\n      <!-- 0.4 -->\r\n      <g transform=\"translate(7.2 177.878437)scale(0.1 -0.1)\">\r\n       <use xlink:href=\"#DejaVuSans-48\"/>\r\n       <use x=\"63.623047\" xlink:href=\"#DejaVuSans-46\"/>\r\n       <use x=\"95.410156\" xlink:href=\"#DejaVuSans-52\"/>\r\n      </g>\r\n     </g>\r\n    </g>\r\n    <g id=\"ytick_4\">\r\n     <g id=\"line2d_19\">\r\n      <path clip-path=\"url(#p71d5352135)\" d=\"M 30.103125 119.719219 \r\nL 476.503125 119.719219 \r\n\" style=\"fill:none;stroke:#b0b0b0;stroke-linecap:square;stroke-width:0.8;\"/>\r\n     </g>\r\n     <g id=\"line2d_20\">\r\n      <g>\r\n       <use style=\"stroke:#000000;stroke-width:0.8;\" x=\"30.103125\" xlink:href=\"#m388111f9a5\" y=\"119.719219\"/>\r\n      </g>\r\n     </g>\r\n     <g id=\"text_10\">\r\n      <!-- 0.6 -->\r\n      <g transform=\"translate(7.2 123.518437)scale(0.1 -0.1)\">\r\n       <use xlink:href=\"#DejaVuSans-48\"/>\r\n       <use x=\"63.623047\" xlink:href=\"#DejaVuSans-46\"/>\r\n       <use x=\"95.410156\" xlink:href=\"#DejaVuSans-54\"/>\r\n      </g>\r\n     </g>\r\n    </g>\r\n    <g id=\"ytick_5\">\r\n     <g id=\"line2d_21\">\r\n      <path clip-path=\"url(#p71d5352135)\" d=\"M 30.103125 65.359219 \r\nL 476.503125 65.359219 \r\n\" style=\"fill:none;stroke:#b0b0b0;stroke-linecap:square;stroke-width:0.8;\"/>\r\n     </g>\r\n     <g id=\"line2d_22\">\r\n      <g>\r\n       <use style=\"stroke:#000000;stroke-width:0.8;\" x=\"30.103125\" xlink:href=\"#m388111f9a5\" y=\"65.359219\"/>\r\n      </g>\r\n     </g>\r\n     <g id=\"text_11\">\r\n      <!-- 0.8 -->\r\n      <g transform=\"translate(7.2 69.158437)scale(0.1 -0.1)\">\r\n       <use xlink:href=\"#DejaVuSans-48\"/>\r\n       <use x=\"63.623047\" xlink:href=\"#DejaVuSans-46\"/>\r\n       <use x=\"95.410156\" xlink:href=\"#DejaVuSans-56\"/>\r\n      </g>\r\n     </g>\r\n    </g>\r\n    <g id=\"ytick_6\">\r\n     <g id=\"line2d_23\">\r\n      <path clip-path=\"url(#p71d5352135)\" d=\"M 30.103125 10.999219 \r\nL 476.503125 10.999219 \r\n\" style=\"fill:none;stroke:#b0b0b0;stroke-linecap:square;stroke-width:0.8;\"/>\r\n     </g>\r\n     <g id=\"line2d_24\">\r\n      <g>\r\n       <use style=\"stroke:#000000;stroke-width:0.8;\" x=\"30.103125\" xlink:href=\"#m388111f9a5\" y=\"10.999219\"/>\r\n      </g>\r\n     </g>\r\n     <g id=\"text_12\">\r\n      <!-- 1.0 -->\r\n      <g transform=\"translate(7.2 14.798437)scale(0.1 -0.1)\">\r\n       <use xlink:href=\"#DejaVuSans-49\"/>\r\n       <use x=\"63.623047\" xlink:href=\"#DejaVuSans-46\"/>\r\n       <use x=\"95.410156\" xlink:href=\"#DejaVuSans-48\"/>\r\n      </g>\r\n     </g>\r\n    </g>\r\n   </g>\r\n   <g id=\"line2d_25\">\r\n    <path clip-path=\"url(#p71d5352135)\" d=\"M 50.394034 91.664295 \r\nL 87.286596 93.785481 \r\nL 124.179158 94.933338 \r\nL 161.07172 97.52118 \r\nL 197.964282 99.921874 \r\nL 234.856844 99.52684 \r\nL 271.749406 99.700899 \r\nL 308.641968 100.857763 \r\nL 345.53453 102.598414 \r\nL 382.427092 102.191392 \r\nL 419.319654 102.630232 \r\nL 456.212216 105.138157 \r\n\" style=\"fill:none;stroke:#1f77b4;stroke-linecap:square;stroke-width:1.5;\"/>\r\n   </g>\r\n   <g id=\"line2d_26\">\r\n    <path clip-path=\"url(#p71d5352135)\" d=\"M 50.394034 77.9043 \r\nL 87.286596 76.841253 \r\nL 124.179158 76.684221 \r\nL 161.07172 75.35542 \r\nL 197.964282 75.35542 \r\nL 234.856844 74.829939 \r\nL 271.749406 75.168174 \r\nL 308.641968 74.437335 \r\nL 345.53453 74.316544 \r\nL 382.427092 73.724625 \r\nL 419.319654 73.603817 \r\nL 456.212216 73.392416 \r\n\" style=\"fill:none;stroke:#ff7f0e;stroke-linecap:square;stroke-width:1.5;\"/>\r\n   </g>\r\n   <g id=\"line2d_27\">\r\n    <path clip-path=\"url(#p71d5352135)\" style=\"fill:none;stroke:#2ca02c;stroke-linecap:square;stroke-width:1.5;\"/>\r\n   </g>\r\n   <g id=\"line2d_28\">\r\n    <path clip-path=\"url(#p71d5352135)\" d=\"M 50.394034 126.622944 \r\nL 87.286596 125.644463 \r\nL 124.179158 126.079335 \r\nL 161.07172 126.568575 \r\nL 197.964282 126.622944 \r\nL 234.856844 125.644463 \r\nL 271.749406 125.807538 \r\nL 308.641968 126.89474 \r\nL 345.53453 125.91626 \r\nL 382.427092 126.133704 \r\nL 419.319654 125.155223 \r\nL 456.212216 125.861891 \r\n\" style=\"fill:none;stroke:#d62728;stroke-linecap:square;stroke-width:1.5;\"/>\r\n   </g>\r\n   <g id=\"line2d_29\">\r\n    <path clip-path=\"url(#p71d5352135)\" d=\"M 50.394034 282.75675 \r\nL 87.286596 282.75675 \r\nL 124.179158 282.75675 \r\nL 161.07172 282.75675 \r\nL 197.964282 282.75675 \r\nL 234.856844 282.75675 \r\nL 271.749406 282.777984 \r\nL 308.641968 282.777984 \r\nL 345.53453 282.777984 \r\nL 382.427092 282.777984 \r\nL 419.319654 282.788602 \r\nL 456.212216 282.788602 \r\n\" style=\"fill:none;stroke:#9467bd;stroke-linecap:square;stroke-width:1.5;\"/>\r\n   </g>\r\n   <g id=\"patch_3\">\r\n    <path d=\"M 30.103125 282.799219 \r\nL 30.103125 10.999219 \r\n\" style=\"fill:none;stroke:#000000;stroke-linecap:square;stroke-linejoin:miter;stroke-width:0.8;\"/>\r\n   </g>\r\n   <g id=\"patch_4\">\r\n    <path d=\"M 476.503125 282.799219 \r\nL 476.503125 10.999219 \r\n\" style=\"fill:none;stroke:#000000;stroke-linecap:square;stroke-linejoin:miter;stroke-width:0.8;\"/>\r\n   </g>\r\n   <g id=\"patch_5\">\r\n    <path d=\"M 30.103125 282.799219 \r\nL 476.503125 282.799219 \r\n\" style=\"fill:none;stroke:#000000;stroke-linecap:square;stroke-linejoin:miter;stroke-width:0.8;\"/>\r\n   </g>\r\n   <g id=\"patch_6\">\r\n    <path d=\"M 30.103125 10.999219 \r\nL 476.503125 10.999219 \r\n\" style=\"fill:none;stroke:#000000;stroke-linecap:square;stroke-linejoin:miter;stroke-width:0.8;\"/>\r\n   </g>\r\n   <g id=\"legend_1\">\r\n    <g id=\"patch_7\">\r\n     <path d=\"M 37.103125 277.799219 \r\nL 134.046875 277.799219 \r\nQ 136.046875 277.799219 136.046875 275.799219 \r\nL 136.046875 202.852344 \r\nQ 136.046875 200.852344 134.046875 200.852344 \r\nL 37.103125 200.852344 \r\nQ 35.103125 200.852344 35.103125 202.852344 \r\nL 35.103125 275.799219 \r\nQ 35.103125 277.799219 37.103125 277.799219 \r\nz\r\n\" style=\"fill:#ffffff;opacity:0.8;stroke:#cccccc;stroke-linejoin:miter;\"/>\r\n    </g>\r\n    <g id=\"line2d_30\">\r\n     <path d=\"M 39.103125 208.950781 \r\nL 59.103125 208.950781 \r\n\" style=\"fill:none;stroke:#1f77b4;stroke-linecap:square;stroke-width:1.5;\"/>\r\n    </g>\r\n    <g id=\"line2d_31\"/>\r\n    <g id=\"text_13\">\r\n     <!-- loss -->\r\n     <g transform=\"translate(67.103125 212.450781)scale(0.1 -0.1)\">\r\n      <defs>\r\n       <path d=\"M 9.421875 75.984375 \r\nL 18.40625 75.984375 \r\nL 18.40625 0 \r\nL 9.421875 0 \r\nz\r\n\" id=\"DejaVuSans-108\"/>\r\n       <path d=\"M 30.609375 48.390625 \r\nQ 23.390625 48.390625 19.1875 42.75 \r\nQ 14.984375 37.109375 14.984375 27.296875 \r\nQ 14.984375 17.484375 19.15625 11.84375 \r\nQ 23.34375 6.203125 30.609375 6.203125 \r\nQ 37.796875 6.203125 41.984375 11.859375 \r\nQ 46.1875 17.53125 46.1875 27.296875 \r\nQ 46.1875 37.015625 41.984375 42.703125 \r\nQ 37.796875 48.390625 30.609375 48.390625 \r\nz\r\nM 30.609375 56 \r\nQ 42.328125 56 49.015625 48.375 \r\nQ 55.71875 40.765625 55.71875 27.296875 \r\nQ 55.71875 13.875 49.015625 6.21875 \r\nQ 42.328125 -1.421875 30.609375 -1.421875 \r\nQ 18.84375 -1.421875 12.171875 6.21875 \r\nQ 5.515625 13.875 5.515625 27.296875 \r\nQ 5.515625 40.765625 12.171875 48.375 \r\nQ 18.84375 56 30.609375 56 \r\nz\r\n\" id=\"DejaVuSans-111\"/>\r\n       <path d=\"M 44.28125 53.078125 \r\nL 44.28125 44.578125 \r\nQ 40.484375 46.53125 36.375 47.5 \r\nQ 32.28125 48.484375 27.875 48.484375 \r\nQ 21.1875 48.484375 17.84375 46.4375 \r\nQ 14.5 44.390625 14.5 40.28125 \r\nQ 14.5 37.15625 16.890625 35.375 \r\nQ 19.28125 33.59375 26.515625 31.984375 \r\nL 29.59375 31.296875 \r\nQ 39.15625 29.25 43.1875 25.515625 \r\nQ 47.21875 21.78125 47.21875 15.09375 \r\nQ 47.21875 7.46875 41.1875 3.015625 \r\nQ 35.15625 -1.421875 24.609375 -1.421875 \r\nQ 20.21875 -1.421875 15.453125 -0.5625 \r\nQ 10.6875 0.296875 5.421875 2 \r\nL 5.421875 11.28125 \r\nQ 10.40625 8.6875 15.234375 7.390625 \r\nQ 20.0625 6.109375 24.8125 6.109375 \r\nQ 31.15625 6.109375 34.5625 8.28125 \r\nQ 37.984375 10.453125 37.984375 14.40625 \r\nQ 37.984375 18.0625 35.515625 20.015625 \r\nQ 33.0625 21.96875 24.703125 23.78125 \r\nL 21.578125 24.515625 \r\nQ 13.234375 26.265625 9.515625 29.90625 \r\nQ 5.8125 33.546875 5.8125 39.890625 \r\nQ 5.8125 47.609375 11.28125 51.796875 \r\nQ 16.75 56 26.8125 56 \r\nQ 31.78125 56 36.171875 55.265625 \r\nQ 40.578125 54.546875 44.28125 53.078125 \r\nz\r\n\" id=\"DejaVuSans-115\"/>\r\n      </defs>\r\n      <use xlink:href=\"#DejaVuSans-108\"/>\r\n      <use x=\"27.783203\" xlink:href=\"#DejaVuSans-111\"/>\r\n      <use x=\"88.964844\" xlink:href=\"#DejaVuSans-115\"/>\r\n      <use x=\"141.064453\" xlink:href=\"#DejaVuSans-115\"/>\r\n     </g>\r\n    </g>\r\n    <g id=\"line2d_32\">\r\n     <path d=\"M 39.103125 223.628906 \r\nL 59.103125 223.628906 \r\n\" style=\"fill:none;stroke:#ff7f0e;stroke-linecap:square;stroke-width:1.5;\"/>\r\n    </g>\r\n    <g id=\"line2d_33\"/>\r\n    <g id=\"text_14\">\r\n     <!-- accuracy -->\r\n     <g transform=\"translate(67.103125 227.128906)scale(0.1 -0.1)\">\r\n      <defs>\r\n       <path d=\"M 34.28125 27.484375 \r\nQ 23.390625 27.484375 19.1875 25 \r\nQ 14.984375 22.515625 14.984375 16.5 \r\nQ 14.984375 11.71875 18.140625 8.90625 \r\nQ 21.296875 6.109375 26.703125 6.109375 \r\nQ 34.1875 6.109375 38.703125 11.40625 \r\nQ 43.21875 16.703125 43.21875 25.484375 \r\nL 43.21875 27.484375 \r\nz\r\nM 52.203125 31.203125 \r\nL 52.203125 0 \r\nL 43.21875 0 \r\nL 43.21875 8.296875 \r\nQ 40.140625 3.328125 35.546875 0.953125 \r\nQ 30.953125 -1.421875 24.3125 -1.421875 \r\nQ 15.921875 -1.421875 10.953125 3.296875 \r\nQ 6 8.015625 6 15.921875 \r\nQ 6 25.140625 12.171875 29.828125 \r\nQ 18.359375 34.515625 30.609375 34.515625 \r\nL 43.21875 34.515625 \r\nL 43.21875 35.40625 \r\nQ 43.21875 41.609375 39.140625 45 \r\nQ 35.0625 48.390625 27.6875 48.390625 \r\nQ 23 48.390625 18.546875 47.265625 \r\nQ 14.109375 46.140625 10.015625 43.890625 \r\nL 10.015625 52.203125 \r\nQ 14.9375 54.109375 19.578125 55.046875 \r\nQ 24.21875 56 28.609375 56 \r\nQ 40.484375 56 46.34375 49.84375 \r\nQ 52.203125 43.703125 52.203125 31.203125 \r\nz\r\n\" id=\"DejaVuSans-97\"/>\r\n       <path d=\"M 48.78125 52.59375 \r\nL 48.78125 44.1875 \r\nQ 44.96875 46.296875 41.140625 47.34375 \r\nQ 37.3125 48.390625 33.40625 48.390625 \r\nQ 24.65625 48.390625 19.8125 42.84375 \r\nQ 14.984375 37.3125 14.984375 27.296875 \r\nQ 14.984375 17.28125 19.8125 11.734375 \r\nQ 24.65625 6.203125 33.40625 6.203125 \r\nQ 37.3125 6.203125 41.140625 7.25 \r\nQ 44.96875 8.296875 48.78125 10.40625 \r\nL 48.78125 2.09375 \r\nQ 45.015625 0.34375 40.984375 -0.53125 \r\nQ 36.96875 -1.421875 32.421875 -1.421875 \r\nQ 20.0625 -1.421875 12.78125 6.34375 \r\nQ 5.515625 14.109375 5.515625 27.296875 \r\nQ 5.515625 40.671875 12.859375 48.328125 \r\nQ 20.21875 56 33.015625 56 \r\nQ 37.15625 56 41.109375 55.140625 \r\nQ 45.0625 54.296875 48.78125 52.59375 \r\nz\r\n\" id=\"DejaVuSans-99\"/>\r\n       <path d=\"M 8.5 21.578125 \r\nL 8.5 54.6875 \r\nL 17.484375 54.6875 \r\nL 17.484375 21.921875 \r\nQ 17.484375 14.15625 20.5 10.265625 \r\nQ 23.53125 6.390625 29.59375 6.390625 \r\nQ 36.859375 6.390625 41.078125 11.03125 \r\nQ 45.3125 15.671875 45.3125 23.6875 \r\nL 45.3125 54.6875 \r\nL 54.296875 54.6875 \r\nL 54.296875 0 \r\nL 45.3125 0 \r\nL 45.3125 8.40625 \r\nQ 42.046875 3.421875 37.71875 1 \r\nQ 33.40625 -1.421875 27.6875 -1.421875 \r\nQ 18.265625 -1.421875 13.375 4.4375 \r\nQ 8.5 10.296875 8.5 21.578125 \r\nz\r\nM 31.109375 56 \r\nz\r\n\" id=\"DejaVuSans-117\"/>\r\n       <path d=\"M 41.109375 46.296875 \r\nQ 39.59375 47.171875 37.8125 47.578125 \r\nQ 36.03125 48 33.890625 48 \r\nQ 26.265625 48 22.1875 43.046875 \r\nQ 18.109375 38.09375 18.109375 28.8125 \r\nL 18.109375 0 \r\nL 9.078125 0 \r\nL 9.078125 54.6875 \r\nL 18.109375 54.6875 \r\nL 18.109375 46.1875 \r\nQ 20.953125 51.171875 25.484375 53.578125 \r\nQ 30.03125 56 36.53125 56 \r\nQ 37.453125 56 38.578125 55.875 \r\nQ 39.703125 55.765625 41.0625 55.515625 \r\nz\r\n\" id=\"DejaVuSans-114\"/>\r\n       <path d=\"M 32.171875 -5.078125 \r\nQ 28.375 -14.84375 24.75 -17.8125 \r\nQ 21.140625 -20.796875 15.09375 -20.796875 \r\nL 7.90625 -20.796875 \r\nL 7.90625 -13.28125 \r\nL 13.1875 -13.28125 \r\nQ 16.890625 -13.28125 18.9375 -11.515625 \r\nQ 21 -9.765625 23.484375 -3.21875 \r\nL 25.09375 0.875 \r\nL 2.984375 54.6875 \r\nL 12.5 54.6875 \r\nL 29.59375 11.921875 \r\nL 46.6875 54.6875 \r\nL 56.203125 54.6875 \r\nz\r\n\" id=\"DejaVuSans-121\"/>\r\n      </defs>\r\n      <use xlink:href=\"#DejaVuSans-97\"/>\r\n      <use x=\"61.279297\" xlink:href=\"#DejaVuSans-99\"/>\r\n      <use x=\"116.259766\" xlink:href=\"#DejaVuSans-99\"/>\r\n      <use x=\"171.240234\" xlink:href=\"#DejaVuSans-117\"/>\r\n      <use x=\"234.619141\" xlink:href=\"#DejaVuSans-114\"/>\r\n      <use x=\"275.732422\" xlink:href=\"#DejaVuSans-97\"/>\r\n      <use x=\"337.011719\" xlink:href=\"#DejaVuSans-99\"/>\r\n      <use x=\"391.992188\" xlink:href=\"#DejaVuSans-121\"/>\r\n     </g>\r\n    </g>\r\n    <g id=\"line2d_34\">\r\n     <path d=\"M 39.103125 238.307031 \r\nL 59.103125 238.307031 \r\n\" style=\"fill:none;stroke:#2ca02c;stroke-linecap:square;stroke-width:1.5;\"/>\r\n    </g>\r\n    <g id=\"line2d_35\"/>\r\n    <g id=\"text_15\">\r\n     <!-- val_loss -->\r\n     <g transform=\"translate(67.103125 241.807031)scale(0.1 -0.1)\">\r\n      <defs>\r\n       <path d=\"M 2.984375 54.6875 \r\nL 12.5 54.6875 \r\nL 29.59375 8.796875 \r\nL 46.6875 54.6875 \r\nL 56.203125 54.6875 \r\nL 35.6875 0 \r\nL 23.484375 0 \r\nz\r\n\" id=\"DejaVuSans-118\"/>\r\n       <path d=\"M 50.984375 -16.609375 \r\nL 50.984375 -23.578125 \r\nL -0.984375 -23.578125 \r\nL -0.984375 -16.609375 \r\nz\r\n\" id=\"DejaVuSans-95\"/>\r\n      </defs>\r\n      <use xlink:href=\"#DejaVuSans-118\"/>\r\n      <use x=\"59.179688\" xlink:href=\"#DejaVuSans-97\"/>\r\n      <use x=\"120.458984\" xlink:href=\"#DejaVuSans-108\"/>\r\n      <use x=\"148.242188\" xlink:href=\"#DejaVuSans-95\"/>\r\n      <use x=\"198.242188\" xlink:href=\"#DejaVuSans-108\"/>\r\n      <use x=\"226.025391\" xlink:href=\"#DejaVuSans-111\"/>\r\n      <use x=\"287.207031\" xlink:href=\"#DejaVuSans-115\"/>\r\n      <use x=\"339.306641\" xlink:href=\"#DejaVuSans-115\"/>\r\n     </g>\r\n    </g>\r\n    <g id=\"line2d_36\">\r\n     <path d=\"M 39.103125 253.263281 \r\nL 59.103125 253.263281 \r\n\" style=\"fill:none;stroke:#d62728;stroke-linecap:square;stroke-width:1.5;\"/>\r\n    </g>\r\n    <g id=\"line2d_37\"/>\r\n    <g id=\"text_16\">\r\n     <!-- val_accuracy -->\r\n     <g transform=\"translate(67.103125 256.763281)scale(0.1 -0.1)\">\r\n      <use xlink:href=\"#DejaVuSans-118\"/>\r\n      <use x=\"59.179688\" xlink:href=\"#DejaVuSans-97\"/>\r\n      <use x=\"120.458984\" xlink:href=\"#DejaVuSans-108\"/>\r\n      <use x=\"148.242188\" xlink:href=\"#DejaVuSans-95\"/>\r\n      <use x=\"198.242188\" xlink:href=\"#DejaVuSans-97\"/>\r\n      <use x=\"259.521484\" xlink:href=\"#DejaVuSans-99\"/>\r\n      <use x=\"314.501953\" xlink:href=\"#DejaVuSans-99\"/>\r\n      <use x=\"369.482422\" xlink:href=\"#DejaVuSans-117\"/>\r\n      <use x=\"432.861328\" xlink:href=\"#DejaVuSans-114\"/>\r\n      <use x=\"473.974609\" xlink:href=\"#DejaVuSans-97\"/>\r\n      <use x=\"535.253906\" xlink:href=\"#DejaVuSans-99\"/>\r\n      <use x=\"590.234375\" xlink:href=\"#DejaVuSans-121\"/>\r\n     </g>\r\n    </g>\r\n    <g id=\"line2d_38\">\r\n     <path d=\"M 39.103125 268.219531 \r\nL 59.103125 268.219531 \r\n\" style=\"fill:none;stroke:#9467bd;stroke-linecap:square;stroke-width:1.5;\"/>\r\n    </g>\r\n    <g id=\"line2d_39\"/>\r\n    <g id=\"text_17\">\r\n     <!-- lr -->\r\n     <g transform=\"translate(67.103125 271.719531)scale(0.1 -0.1)\">\r\n      <use xlink:href=\"#DejaVuSans-108\"/>\r\n      <use x=\"27.783203\" xlink:href=\"#DejaVuSans-114\"/>\r\n     </g>\r\n    </g>\r\n   </g>\r\n  </g>\r\n </g>\r\n <defs>\r\n  <clipPath id=\"p71d5352135\">\r\n   <rect height=\"271.8\" width=\"446.4\" x=\"30.103125\" y=\"10.999219\"/>\r\n  </clipPath>\r\n </defs>\r\n</svg>\r\n",
      "image/png": "[encoded data removed]"
     },
     "metadata": {
      "needs_background": "light"
     }
    }
   ],
   "source": [
    "# Show the learning curves.\n",
    "# (The training curves should be shifted half an epoch to the left to be completely comparable with the validation curves).\n",
    "\n",
    "pd.DataFrame(history.history).plot(figsize = (8, 5))\n",
    "plt.grid(True)\n",
    "plt.gca().set_ylim(0, 1)\n",
    "plt.show()"
   ]
  },
  {
   "cell_type": "code",
   "execution_count": 13,
   "metadata": {},
   "outputs": [
    {
     "output_type": "stream",
     "name": "stdout",
     "text": [
      "313/313 [==============================] - 0s 1ms/step - loss: 1.6184 - accuracy: 0.5524\n"
     ]
    },
    {
     "output_type": "execute_result",
     "data": {
      "text/plain": [
       "[1.6183512210845947, 0.5523999929428101]"
      ]
     },
     "metadata": {},
     "execution_count": 13
    }
   ],
   "source": [
    "model.evaluate(data_test_standardized, label_test)"
   ]
  },
  {
   "cell_type": "code",
   "execution_count": null,
   "metadata": {},
   "outputs": [],
   "source": [
    "# Save the model, if needed (OPTIONAL!)\n",
    "keras.models.save_model(model, model_path, overwrite = True, include_optimizer = True)"
   ]
  },
  {
   "cell_type": "code",
   "execution_count": null,
   "metadata": {},
   "outputs": [],
   "source": []
  }
 ]
}