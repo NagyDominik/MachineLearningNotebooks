{
 "cells": [
  {
   "cell_type": "markdown",
   "metadata": {},
   "source": [
    "# Load and inspect"
   ]
  },
  {
   "cell_type": "code",
   "execution_count": null,
   "metadata": {},
   "outputs": [],
   "source": [
    "import sklearn\n",
    "import numpy as np\n",
    "import os\n",
    "\n",
    "# Ignore useless warnings (see SciPy issue #5998)\n",
    "import warnings\n",
    "warnings.filterwarnings(action=\"ignore\", message=\"^internal gelsd\")"
   ]
  },
  {
   "cell_type": "code",
   "execution_count": null,
   "metadata": {},
   "outputs": [],
   "source": [
    "# This function creates a dataset/auto-mpg directory in your workspace, downloads the auto-mpg.data file.\n",
    "import os\n",
    "import tarfile\n",
    "import urllib\n",
    "\n",
    "DOWNLOAD_ROOT = \"http://archive.ics.uci.edu/ml/machine-learning-databases/auto-mpg/\"\n",
    "AUTO_PATH = os.path.join(\"datasets\", \"auto-mpg\")\n",
    "AUTO_URL = DOWNLOAD_ROOT + \"auto-mpg.data\"\n",
    "\n",
    "def fetch_auto_data(auto_url=AUTO_URL, auto_path=AUTO_PATH):\n",
    "    if not os.path.isdir(auto_path):\n",
    "        os.makedirs(auto_path)\n",
    "    data_path = os.path.join(auto_path, \"auto-mpg.data\")\n",
    "    urllib.request.urlretrieve(auto_url, data_path)"
   ]
  },
  {
   "cell_type": "code",
   "execution_count": null,
   "metadata": {},
   "outputs": [],
   "source": [
    "# Download the dataset\n",
    "fetch_auto_data()"
   ]
  },
  {
   "cell_type": "code",
   "execution_count": null,
   "metadata": {},
   "outputs": [],
   "source": [
    "# This function loads the dataset from the auto-mpg.data file.\n",
    "# It returns a pandas DataFrame object containing all the data.\n",
    "\n",
    "import pandas as pd\n",
    "\n",
    "def load_auto_data(auto_path=AUTO_PATH):\n",
    "    data_path = os.path.join(auto_path, \"auto-mpg.data\")\n",
    "    return pd.read_fwf(data_path,header=None)"
   ]
  },
  {
   "cell_type": "code",
   "execution_count": null,
   "metadata": {},
   "outputs": [],
   "source": [
    "# load the dataset\n",
    "auto_mpg = load_auto_data()\n",
    "\n",
    "# Display the top five rows\n",
    "auto_mpg.head()"
   ]
  },
  {
   "cell_type": "code",
   "execution_count": null,
   "metadata": {},
   "outputs": [],
   "source": [
    "# Get a quick description of the data\n",
    "# (look for null values and non-numerical data which require special data preparation)\n",
    "auto_mpg.info()"
   ]
  },
  {
   "cell_type": "code",
   "execution_count": null,
   "metadata": {},
   "outputs": [],
   "source": [
    "# Look at the non-numerical features\n",
    "auto_mpg[8].value_counts()\n",
    "#auto_mpg[8].value_counts()"
   ]
  },
  {
   "cell_type": "code",
   "execution_count": null,
   "metadata": {},
   "outputs": [],
   "source": [
    "# Display basic statistics for the features\n",
    "auto_mpg.describe()"
   ]
  },
  {
   "cell_type": "code",
   "execution_count": null,
   "metadata": {},
   "outputs": [],
   "source": [
    "# Plot a histogram of each numerical feature\n",
    "# (the first line deternines which graphical backend to use - in this case Jupyter's own)\n",
    "%matplotlib inline\n",
    "import matplotlib.pyplot as plt\n",
    "auto_mpg.hist(bins=50, figsize=(20,15))\n",
    "plt.show()"
   ]
  },
  {
   "cell_type": "code",
   "execution_count": null,
   "metadata": {},
   "outputs": [],
   "source": [
    "# The correlation coefficient ranges from -1 (100% negative correlation) to 1 (100% positive correlation)\n",
    "corr_matrix = auto_mpg.corr()\n",
    "corr_matrix[0].sort_values(ascending=False)"
   ]
  },
  {
   "cell_type": "markdown",
   "metadata": {},
   "source": [
    "# Preparation"
   ]
  },
  {
   "cell_type": "code",
   "execution_count": null,
   "metadata": {},
   "outputs": [],
   "source": [
    "# Split the dataset randomly in training set (80%) and test set (20%). Use a fixed random seed (42).\n",
    "# As a rule of thumb, pick 20% for the test set, unless the dataset is very large.\n",
    "from sklearn.model_selection import train_test_split\n",
    "\n",
    "train_set, test_set = train_test_split(auto_mpg, test_size=0.2, random_state=42)"
   ]
  },
  {
   "source": [
    "## Stratified sampling"
   ],
   "cell_type": "markdown",
   "metadata": {}
  },
  {
   "cell_type": "code",
   "execution_count": null,
   "metadata": {},
   "outputs": [],
   "source": [
    "# Remove the labels from the training set (the method returns a new set, and it does not affect the original one).\n",
    "auto_mpg_predictors = train_set.drop(0, axis=1)\n",
    "\n",
    "\n",
    "# Keep the labels in a separate set.\n",
    "auto_mpg_labels = train_set[0].copy()"
   ]
  },
  {
   "cell_type": "code",
   "execution_count": null,
   "metadata": {},
   "outputs": [],
   "source": [
    "# Remove the text attribute because median can only be calculated on numerical attributes.\n",
    "\n",
    "auto_mpg_num = auto_mpg_predictors.drop(8, axis=1)"
   ]
  },
  {
   "cell_type": "code",
   "execution_count": null,
   "metadata": {},
   "outputs": [],
   "source": [
    "#Remove/Replace the missing data marked by '?'.\n",
    "\n",
    "#auto_mpg_num = auto_mpg_num[auto_mpg_num[3] != '?']\n",
    "auto_mpg_num.replace('?', np.nan, inplace=True)"
   ]
  },
  {
   "cell_type": "code",
   "execution_count": null,
   "metadata": {},
   "outputs": [],
   "source": [
    "from sklearn.impute import SimpleImputer\n",
    "imputer = SimpleImputer(strategy=\"median\")"
   ]
  },
  {
   "cell_type": "code",
   "execution_count": null,
   "metadata": {},
   "outputs": [],
   "source": [
    "# Compute the median of each attribute.\n",
    "imputer.fit(auto_mpg_num)"
   ]
  },
  {
   "cell_type": "code",
   "execution_count": null,
   "metadata": {},
   "outputs": [],
   "source": [
    "auto_mpg_num.info()"
   ]
  },
  {
   "cell_type": "code",
   "execution_count": null,
   "metadata": {},
   "outputs": [],
   "source": [
    "auto_mpg_num = imputer.transform(auto_mpg_num)"
   ]
  },
  {
   "source": [
    "## Feature scaling"
   ],
   "cell_type": "markdown",
   "metadata": {}
  },
  {
   "cell_type": "code",
   "execution_count": null,
   "metadata": {},
   "outputs": [],
   "source": [
    "from sklearn.preprocessing import StandardScaler, MinMaxScaler\n",
    "scaler = StandardScaler()\n",
    "# scaler = MinMaxScaler()\n",
    "auto_mpg_num_prepared = scaler.fit_transform(auto_mpg_num)"
   ]
  },
  {
   "source": [
    "# Select and train a model"
   ],
   "cell_type": "markdown",
   "metadata": {}
  },
  {
   "source": [
    "## Linear Regression"
   ],
   "cell_type": "markdown",
   "metadata": {}
  },
  {
   "cell_type": "code",
   "execution_count": null,
   "metadata": {},
   "outputs": [],
   "source": [
    "# Train a Linear Regression model.\n",
    "from sklearn.linear_model import LinearRegression\n",
    "\n",
    "lin_reg = LinearRegression()\n",
    "lin_reg.fit(auto_mpg_num_prepared, auto_mpg_labels)"
   ]
  },
  {
   "cell_type": "code",
   "execution_count": null,
   "metadata": {},
   "outputs": [],
   "source": [
    "# Measure the models RMSE on the training set\n",
    "from sklearn.metrics import mean_squared_error\n",
    "\n",
    "auto_mpg_predictions = lin_reg.predict(auto_mpg_num_prepared)\n",
    "lin_mse = mean_squared_error(auto_mpg_labels, auto_mpg_predictions)\n",
    "lin_rmse = np.sqrt(lin_mse)\n",
    "lin_rmse"
   ]
  },
  {
   "cell_type": "code",
   "execution_count": null,
   "metadata": {},
   "outputs": [],
   "source": [
    "# Measure the models RAE on the training set\n",
    "from sklearn.metrics import mean_absolute_error\n",
    "\n",
    "lin_mae = mean_absolute_error(auto_mpg_labels, auto_mpg_predictions)\n",
    "lin_mae"
   ]
  },
  {
   "source": [
    "## Decision Tree Regressor"
   ],
   "cell_type": "markdown",
   "metadata": {}
  },
  {
   "cell_type": "code",
   "execution_count": null,
   "metadata": {},
   "outputs": [],
   "source": [
    "# Train a DecisionTreeRegressor.\n",
    "from sklearn.tree import DecisionTreeRegressor\n",
    "\n",
    "tree_reg = DecisionTreeRegressor(random_state=42)\n",
    "tree_reg.fit(auto_mpg_num_prepared, auto_mpg_labels)"
   ]
  },
  {
   "cell_type": "code",
   "execution_count": null,
   "metadata": {},
   "outputs": [],
   "source": [
    "# Measure the models RMSE on the training set\n",
    "auto_mpg_predictions = tree_reg.predict(auto_mpg_num_prepared)\n",
    "tree_mse = mean_squared_error(auto_mpg_labels, auto_mpg_predictions)\n",
    "tree_rmse = np.sqrt(tree_mse)\n",
    "tree_rmse"
   ]
  },
  {
   "source": [
    "## Evaluate the model on the test set"
   ],
   "cell_type": "markdown",
   "metadata": {}
  },
  {
   "cell_type": "code",
   "execution_count": null,
   "metadata": {},
   "outputs": [],
   "source": [
    "# Remove the labels from the test set.\n",
    "X_test = test_set.drop(0, axis=1)\n",
    "# Keep the labels in a separate set.\n",
    "y_test = test_set[0].copy()"
   ]
  },
  {
   "cell_type": "code",
   "execution_count": null,
   "metadata": {},
   "outputs": [],
   "source": [
    "# Perform the same transformations on the test set as we did on the training set.\n",
    "X_test = X_test.drop(8, axis=1)\n",
    "X_test.replace('?', np.nan, inplace=True)\n",
    "X_test = imputer.transform(X_test)\n",
    "X_test_prepared = scaler.transform(X_test)"
   ]
  },
  {
   "cell_type": "code",
   "execution_count": null,
   "metadata": {},
   "outputs": [],
   "source": [
    "# Evaluate the linear regression model.\n",
    "lin_reg_predictions = lin_reg.predict(X_test_prepared)\n",
    "lin_reg_mse = mean_squared_error(y_test, lin_reg_predictions)\n",
    "lin_reg_rmse = np.sqrt(lin_reg_mse)\n",
    "lin_reg_rmse"
   ]
  },
  {
   "cell_type": "code",
   "execution_count": null,
   "metadata": {},
   "outputs": [],
   "source": [
    "# Evaluate the DecisionTreeRegressor.\n",
    "tree_reg_predictions = tree_reg.predict(X_test_prepared)\n",
    "tree_reg_mse = mean_squared_error(y_test, tree_reg_predictions)\n",
    "tree_reg_rmse = np.sqrt(tree_reg_mse)\n",
    "tree_reg_rmse"
   ]
  },
  {
   "cell_type": "code",
   "execution_count": null,
   "metadata": {},
   "outputs": [],
   "source": []
  }
 ],
 "metadata": {
  "kernelspec": {
   "display_name": "Python 3",
   "language": "python",
   "name": "python3"
  },
  "language_info": {
   "codemirror_mode": {
    "name": "ipython",
    "version": 3
   },
   "file_extension": ".py",
   "mimetype": "text/x-python",
   "name": "python",
   "nbconvert_exporter": "python",
   "pygments_lexer": "ipython3",
   "version": "3.8.3-final"
  }
 },
 "nbformat": 4,
 "nbformat_minor": 4
}